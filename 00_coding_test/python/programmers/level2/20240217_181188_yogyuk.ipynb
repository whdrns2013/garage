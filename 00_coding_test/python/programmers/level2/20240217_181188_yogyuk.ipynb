{
 "cells": [
  {
   "cell_type": "markdown",
   "id": "c430e128",
   "metadata": {},
   "source": [
    "# 풀이"
   ]
  },
  {
   "cell_type": "code",
   "execution_count": null,
   "id": "8403358a",
   "metadata": {},
   "outputs": [],
   "source": [
    "# 전체 함수\n",
    "\n",
    "# 정렬을 위한 함수\n",
    "def sort_list(list):\n",
    "    return [list[1], list[0]]\n",
    "\n",
    "def solution(targets):\n",
    "\n",
    "    # 앞서있는 target a라는 미사일과 그 뒤에 target b라는 미사일이 있을 때\n",
    "    # 이들을 한꺼번에 요걱하기 위해선 target b의 시작점이 target a의 사이\n",
    "    # 즉 target a의 끝지점 이전에 있어야 한다.\n",
    "\n",
    "    # 정렬하기\n",
    "    targets.sort(key=sort_list)\n",
    "\n",
    "    # 끝점에 따라 요격하고\n",
    "    # 다음 미사일의 시작점이 앞 미사일의 시작점 전이면 함께 요격되는 것으로 여긴다\n",
    "    count = 0\n",
    "    last_shoot_point = 0\n",
    "    \n",
    "    for target in targets:\n",
    "        if target[0] >= last_shoot_point:\n",
    "            count += 1\n",
    "            last_shoot_point = target[1]\n",
    "    \n",
    "\n",
    "    return count"
   ]
  },
  {
   "cell_type": "markdown",
   "id": "02cbca48",
   "metadata": {},
   "source": [
    "# 풀이 상세"
   ]
  },
  {
   "cell_type": "code",
   "execution_count": 227,
   "id": "2fcc9fcb-1709-4d6c-b565-4938847f61e6",
   "metadata": {},
   "outputs": [],
   "source": [
    "targets = [[4,5],[4,8],[10,14],[11,13],[5,12],[3,7],[1,4]]"
   ]
  },
  {
   "cell_type": "code",
   "execution_count": 232,
   "id": "9d296f13-1fd8-431c-ac06-ad96bb70e41a",
   "metadata": {},
   "outputs": [],
   "source": [
    "# 방법을 바꿔서\n",
    "# 앞서있는 target a라는 미사일과 그 뒤에 target b라는 미사일이 있을 때\n",
    "# 이들을 한꺼번에 요걱하기 위해선 target b의 시작점이 target a의 사이\n",
    "# 즉 target a의 끝지점 이전에 있어야 한다."
   ]
  },
  {
   "cell_type": "code",
   "execution_count": 233,
   "id": "3c2a0a6e-f864-4750-a36c-158d639aa69d",
   "metadata": {},
   "outputs": [],
   "source": [
    "# 정렬하기\n",
    "\n",
    "def sort_list(list):\n",
    "    return [list[1], list[0]]\n",
    "\n",
    "targets.sort(key=sort_list)"
   ]
  },
  {
   "cell_type": "code",
   "execution_count": 234,
   "id": "3b22ccc9-4307-42fd-8f03-3b97d9342747",
   "metadata": {},
   "outputs": [],
   "source": [
    "# 끝점에 따라 요격하고, 다음 미사일의 시작점이 앞 미사일의 시작점 전이면 함께 요격되는 것으로 여긴다\n",
    "\n",
    "count = 0\n",
    "last_shoot_point = 0\n",
    "\n",
    "for target in targets:\n",
    "    if target[0] >= last_shoot_point:\n",
    "        count += 1\n",
    "        last_shoot_point = target[1]"
   ]
  },
  {
   "cell_type": "code",
   "execution_count": 235,
   "id": "5a5444ee-e135-4c4c-a2c2-059c94da1604",
   "metadata": {},
   "outputs": [
    {
     "data": {
      "text/plain": [
       "3"
      ]
     },
     "execution_count": 235,
     "metadata": {},
     "output_type": "execute_result"
    }
   ],
   "source": [
    "count"
   ]
  },
  {
   "cell_type": "code",
   "execution_count": 104,
   "id": "008a3896-ac65-4ebd-aa36-1d3635909ef0",
   "metadata": {},
   "outputs": [],
   "source": [
    "# 전체 함수\n",
    "\n",
    "# 정렬을 위한 함수\n",
    "def sort_list(list):\n",
    "    return [list[1], list[0]]\n",
    "\n",
    "def solution(targets):\n",
    "\n",
    "    # 앞서있는 target a라는 미사일과 그 뒤에 target b라는 미사일이 있을 때\n",
    "    # 이들을 한꺼번에 요걱하기 위해선 target b의 시작점이 target a의 사이\n",
    "    # 즉 target a의 끝지점 이전에 있어야 한다.\n",
    "\n",
    "    # 정렬하기\n",
    "    targets.sort(key=sort_list)\n",
    "\n",
    "    # 끝점에 따라 요격하고\n",
    "    # 다음 미사일의 시작점이 앞 미사일의 시작점 전이면 함께 요격되는 것으로 여긴다\n",
    "    count = 0\n",
    "    last_shoot_point = 0\n",
    "    \n",
    "    for target in targets:\n",
    "        if target[0] >= last_shoot_point:\n",
    "            count += 1\n",
    "            last_shoot_point = target[1]\n",
    "    \n",
    "\n",
    "    return count"
   ]
  },
  {
   "cell_type": "code",
   "execution_count": 105,
   "id": "351d724e-e8c4-402c-a676-3011eefd830c",
   "metadata": {},
   "outputs": [
    {
     "name": "stdout",
     "output_type": "stream",
     "text": [
      "[[4, 5, [4, 8], [4, 8], [5, 12], [4, 8], [4, 8], [5, 12], [4, 8], [5, 12], [3, 7, [1, 4], [1, 4], [1, 4], [1, 4], [1, 4]], [4, 8], [4, 8], [5, 12], [4, 8], [5, 12], [3, 7, [1, 4], [1, 4], [1, 4], [1, 4], [1, 4]], [4, 8], [4, 8], [5, 12], [4, 8], [5, 12], [3, 7, [1, 4], [1, 4], [1, 4], [1, 4], [1, 4]], [4, 8], [4, 8], [5, 12], [4, 8], [5, 12], [3, 7, [1, 4], [1, 4], [1, 4], [1, 4], [1, 4]], [4, 8], [4, 8], [5, 12], [4, 8], [5, 12], [3, 7, [1, 4], [1, 4], [1, 4], [1, 4], [1, 4]]], [4, 5, [4, 8], [4, 8], [5, 12], [4, 8], [4, 8], [5, 12], [4, 8], [5, 12], [3, 7, [1, 4], [1, 4], [1, 4], [1, 4], [1, 4]], [4, 8], [4, 8], [5, 12], [4, 8], [5, 12], [3, 7, [1, 4], [1, 4], [1, 4], [1, 4], [1, 4]], [4, 8], [4, 8], [5, 12], [4, 8], [5, 12], [3, 7, [1, 4], [1, 4], [1, 4], [1, 4], [1, 4]], [4, 8], [4, 8], [5, 12], [4, 8], [5, 12], [3, 7, [1, 4], [1, 4], [1, 4], [1, 4], [1, 4]], [4, 8], [4, 8], [5, 12], [4, 8], [5, 12], [3, 7, [1, 4], [1, 4], [1, 4], [1, 4], [1, 4]]], [10, 14, [11, 13], [11, 13], [5, 12], [11, 13], [11, 13], [5, 12], [11, 13], [11, 13], [5, 12], [11, 13], [11, 13], [5, 12], [11, 13], [11, 13], [5, 12]], [11, 13], [10, 14, [11, 13], [11, 13], [5, 12], [11, 13], [11, 13], [5, 12], [11, 13], [11, 13], [5, 12], [11, 13], [11, 13], [5, 12], [11, 13], [11, 13], [5, 12]], [4, 5, [4, 8], [4, 8], [5, 12], [4, 8], [4, 8], [5, 12], [4, 8], [5, 12], [3, 7, [1, 4], [1, 4], [1, 4], [1, 4], [1, 4]], [4, 8], [4, 8], [5, 12], [4, 8], [5, 12], [3, 7, [1, 4], [1, 4], [1, 4], [1, 4], [1, 4]], [4, 8], [4, 8], [5, 12], [4, 8], [5, 12], [3, 7, [1, 4], [1, 4], [1, 4], [1, 4], [1, 4]], [4, 8], [4, 8], [5, 12], [4, 8], [5, 12], [3, 7, [1, 4], [1, 4], [1, 4], [1, 4], [1, 4]], [4, 8], [4, 8], [5, 12], [4, 8], [5, 12], [3, 7, [1, 4], [1, 4], [1, 4], [1, 4], [1, 4]]], [3, 7, [1, 4], [1, 4], [1, 4], [1, 4], [1, 4]]]\n"
     ]
    },
    {
     "data": {
      "text/plain": [
       "1"
      ]
     },
     "execution_count": 105,
     "metadata": {},
     "output_type": "execute_result"
    }
   ],
   "source": [
    "dd = solution(targets)\n",
    "dd"
   ]
  },
  {
   "cell_type": "markdown",
   "id": "bcd4bfd0-e6a0-46c4-99b9-48deaadfea60",
   "metadata": {},
   "source": [
    "# 얕은 복사와 깊은 복사"
   ]
  },
  {
   "cell_type": "code",
   "execution_count": 66,
   "id": "c848419a-37d6-40b7-8e2e-546a680ffda8",
   "metadata": {},
   "outputs": [
    {
     "name": "stdout",
     "output_type": "stream",
     "text": [
      "[1, 5, 6, 7, 8]\n",
      "[1, 5, 6, 7, 8]\n"
     ]
    }
   ],
   "source": [
    "test_list = [1, 3, 5, 6, 7, 8]\n",
    "list_copy = test_list\n",
    "\n",
    "del test_list[1]\n",
    "print(test_list)\n",
    "print(list_copy)"
   ]
  },
  {
   "cell_type": "code",
   "execution_count": 67,
   "id": "bd10b8c3-da70-4919-9a43-f4dff9074194",
   "metadata": {},
   "outputs": [
    {
     "name": "stdout",
     "output_type": "stream",
     "text": [
      "[1, 5, 6, 7, 8]\n",
      "[1, 3, 5, 6, 7, 8]\n"
     ]
    }
   ],
   "source": [
    "test_list = [1, 3, 5, 6, 7, 8]\n",
    "list_copy = test_list.copy()\n",
    "\n",
    "del test_list[1]\n",
    "print(test_list)\n",
    "print(list_copy)"
   ]
  },
  {
   "cell_type": "markdown",
   "id": "a46fa1c5-199e-4ee5-9bc1-9ae3e8326ec6",
   "metadata": {},
   "source": [
    "# 리스트를 반복문 할 때 리스트의 원소를 제거하면 어떻게 될까?"
   ]
  },
  {
   "cell_type": "code",
   "execution_count": 73,
   "id": "7008165c-4104-4ec6-9a01-9259504fb723",
   "metadata": {},
   "outputs": [
    {
     "name": "stdout",
     "output_type": "stream",
     "text": [
      "index : 0\n",
      "comp : 1\n",
      "[1, 3, 5, 6, 7, 8]\n",
      "index : 1\n",
      "comp : 3\n",
      "[1, 5, 6, 7, 8]\n",
      "index : 2\n",
      "comp : 6\n",
      "[1, 5, 7, 8]\n",
      "index : 3\n",
      "comp : 8\n",
      "[1, 5, 7]\n"
     ]
    }
   ],
   "source": [
    "test_list = [1, 3, 5, 6, 7, 8]\n",
    "remove_list = [3, 6, 8]\n",
    "\n",
    "for i, comp in enumerate(test_list):\n",
    "    if comp in remove_list:\n",
    "        test_list.remove(comp)\n",
    "    print(\"index : \" + str(i))\n",
    "    print(\"comp : \" + str(comp))\n",
    "    print(test_list)"
   ]
  },
  {
   "cell_type": "markdown",
   "id": "e497007b-eaf7-438a-a84d-4c1c56c5c39d",
   "metadata": {},
   "source": [
    "# 리스트를 join"
   ]
  },
  {
   "cell_type": "code",
   "execution_count": 102,
   "id": "e51b0ef5-9563-4859-a868-649ed652a65c",
   "metadata": {},
   "outputs": [
    {
     "name": "stdout",
     "output_type": "stream",
     "text": [
      "[1, 3, 5, 6, 7, 8]\n"
     ]
    }
   ],
   "source": [
    "test_list = [1, 3, 5, 6, 7, 8]\n",
    "print(''.join(str(test_list)))"
   ]
  },
  {
   "cell_type": "code",
   "execution_count": 103,
   "id": "a0be30c7-5973-45e2-9e34-d767455d036a",
   "metadata": {},
   "outputs": [
    {
     "data": {
      "text/plain": [
       "'[1, 3, 5, 6, 7, 8]'"
      ]
     },
     "execution_count": 103,
     "metadata": {},
     "output_type": "execute_result"
    }
   ],
   "source": [
    "str(test_list)"
   ]
  },
  {
   "cell_type": "markdown",
   "id": "6ea4cc08-f368-46b7-b136-2bb340ec9034",
   "metadata": {},
   "source": [
    "# 리스트의 특정 index에 값 넣기 insert"
   ]
  },
  {
   "cell_type": "code",
   "execution_count": 79,
   "id": "c60a472b-def6-473d-9ccc-3713c425e006",
   "metadata": {},
   "outputs": [
    {
     "data": {
      "text/plain": [
       "[1, 1, 5, 3]"
      ]
     },
     "execution_count": 79,
     "metadata": {},
     "output_type": "execute_result"
    }
   ],
   "source": [
    "temp_list = []\n",
    "temp_list.insert(0, 1)\n",
    "temp_list.insert(2, 1)\n",
    "temp_list.insert(2, 3)\n",
    "temp_list.insert(2, 5)\n",
    "temp_list"
   ]
  },
  {
   "cell_type": "code",
   "execution_count": 106,
   "id": "78b4cc84-0368-4174-a43f-116be6c86d54",
   "metadata": {},
   "outputs": [
    {
     "data": {
      "text/plain": [
       "[[1, 2, 3]]"
      ]
     },
     "execution_count": 106,
     "metadata": {},
     "output_type": "execute_result"
    }
   ],
   "source": [
    "temp_list = []\n",
    "temp_list.insert(0, [1, 2, 3])\n",
    "temp_list"
   ]
  },
  {
   "cell_type": "markdown",
   "id": "72d6c722-2c8f-4f19-85ef-af2094e23b7a",
   "metadata": {},
   "source": [
    "# set add"
   ]
  },
  {
   "cell_type": "code",
   "execution_count": 140,
   "id": "ebc8f5f5-de06-42bb-b27c-26d03190b2ba",
   "metadata": {},
   "outputs": [],
   "source": [
    "set_ = {1, 2, 3}"
   ]
  },
  {
   "cell_type": "code",
   "execution_count": 141,
   "id": "dede75c7-a45a-4cd9-8171-633b1a5c3497",
   "metadata": {},
   "outputs": [
    {
     "data": {
      "text/plain": [
       "{1, 2, 3, 4}"
      ]
     },
     "execution_count": 141,
     "metadata": {},
     "output_type": "execute_result"
    }
   ],
   "source": [
    "set_.add(4)\n",
    "set_"
   ]
  },
  {
   "cell_type": "code",
   "execution_count": 142,
   "id": "7de2badf-21e7-4230-b30e-6ca956c0506e",
   "metadata": {},
   "outputs": [
    {
     "data": {
      "text/plain": [
       "{1, 2, 3, 4}"
      ]
     },
     "execution_count": 142,
     "metadata": {},
     "output_type": "execute_result"
    }
   ],
   "source": [
    "set_.add(4)\n",
    "set_"
   ]
  },
  {
   "cell_type": "code",
   "execution_count": 6,
   "id": "f87b0979-3dba-4790-b6ac-465adff32545",
   "metadata": {},
   "outputs": [
    {
     "ename": "TypeError",
     "evalue": "unhashable type: 'list'",
     "output_type": "error",
     "traceback": [
      "\u001b[0;31m---------------------------------------------------------------------------\u001b[0m",
      "\u001b[0;31mTypeError\u001b[0m                                 Traceback (most recent call last)",
      "Cell \u001b[0;32mIn[6], line 1\u001b[0m\n\u001b[0;32m----> 1\u001b[0m \u001b[43mset_\u001b[49m\u001b[38;5;241;43m.\u001b[39;49m\u001b[43madd\u001b[49m\u001b[43m(\u001b[49m\u001b[43m[\u001b[49m\u001b[38;5;241;43m1\u001b[39;49m\u001b[43m,\u001b[49m\u001b[43m \u001b[49m\u001b[38;5;241;43m2\u001b[39;49m\u001b[43m,\u001b[49m\u001b[43m \u001b[49m\u001b[38;5;241;43m3\u001b[39;49m\u001b[43m,\u001b[49m\u001b[43m \u001b[49m\u001b[38;5;241;43m4\u001b[39;49m\u001b[43m]\u001b[49m\u001b[43m)\u001b[49m\n",
      "\u001b[0;31mTypeError\u001b[0m: unhashable type: 'list'"
     ]
    }
   ],
   "source": [
    "set_.add([1, 2, 3, 4])\n",
    "# list 형태는 원소로 가질 수 없다?"
   ]
  },
  {
   "cell_type": "markdown",
   "id": "16bcf2cd-417b-4105-ad01-e0f423e565eb",
   "metadata": {},
   "source": [
    "# set comprehension"
   ]
  },
  {
   "cell_type": "code",
   "execution_count": 157,
   "id": "4db718fe-7eab-4242-bb04-102e6a582f78",
   "metadata": {},
   "outputs": [],
   "source": [
    "temp_list = [1, 2, 3, 4]"
   ]
  },
  {
   "cell_type": "code",
   "execution_count": 158,
   "id": "fdf772d9-41f8-4dd9-9e32-8452e67746b1",
   "metadata": {},
   "outputs": [],
   "source": [
    "set_a = {x for x in temp_list}"
   ]
  },
  {
   "cell_type": "code",
   "execution_count": 159,
   "id": "ff975497-d88b-42aa-b390-6af9f2504af8",
   "metadata": {},
   "outputs": [
    {
     "data": {
      "text/plain": [
       "{1, 2, 3, 4}"
      ]
     },
     "execution_count": 159,
     "metadata": {},
     "output_type": "execute_result"
    }
   ],
   "source": [
    "set_a"
   ]
  },
  {
   "cell_type": "markdown",
   "id": "da94b77a-5759-407a-af23-cd414d338c11",
   "metadata": {},
   "source": [
    "# set init"
   ]
  },
  {
   "cell_type": "code",
   "execution_count": 7,
   "id": "7bbade42-26c2-43de-8811-e3bf33463484",
   "metadata": {},
   "outputs": [],
   "source": [
    "set_2 = set()"
   ]
  },
  {
   "cell_type": "markdown",
   "id": "b2a60e6c-69c3-4d60-b5f9-5d8a7912988f",
   "metadata": {},
   "source": [
    "# frozenset"
   ]
  },
  {
   "cell_type": "code",
   "execution_count": 12,
   "id": "756883aa-5cbe-4507-a9dd-02b93899d0fb",
   "metadata": {},
   "outputs": [],
   "source": [
    "# mutable 한 set 만들기 "
   ]
  },
  {
   "cell_type": "code",
   "execution_count": 13,
   "id": "b7d30eac-68af-430a-bb1c-fbf56489440b",
   "metadata": {},
   "outputs": [],
   "source": [
    "set_3 = set()"
   ]
  },
  {
   "cell_type": "code",
   "execution_count": 14,
   "id": "07d1199f-3b93-4629-be1c-866542ac25a2",
   "metadata": {},
   "outputs": [],
   "source": [
    "set_3.add(frozenset([1, 2, 3]))"
   ]
  },
  {
   "cell_type": "code",
   "execution_count": 15,
   "id": "97e21deb-29d0-492c-a4d3-663230f5de25",
   "metadata": {},
   "outputs": [
    {
     "data": {
      "text/plain": [
       "{frozenset({1, 2, 3})}"
      ]
     },
     "execution_count": 15,
     "metadata": {},
     "output_type": "execute_result"
    }
   ],
   "source": [
    "set_3"
   ]
  },
  {
   "cell_type": "code",
   "execution_count": 16,
   "id": "885378ec-1594-4d56-ada8-5bbcb765fbfc",
   "metadata": {},
   "outputs": [
    {
     "data": {
      "text/plain": [
       "{frozenset({1, 2, 3})}"
      ]
     },
     "execution_count": 16,
     "metadata": {},
     "output_type": "execute_result"
    }
   ],
   "source": [
    "set_3.add(frozenset([3, 2, 1]))\n",
    "set_3"
   ]
  },
  {
   "cell_type": "markdown",
   "id": "36d479d1-cfaa-4f06-ac2f-e80da3a69bde",
   "metadata": {},
   "source": [
    "# Range"
   ]
  },
  {
   "cell_type": "code",
   "execution_count": 172,
   "id": "340acf9c-f85f-47c7-9f8b-f171e977f364",
   "metadata": {},
   "outputs": [
    {
     "name": "stdout",
     "output_type": "stream",
     "text": [
      "[1, 2, 3, 4, 5, 6, 7, 8, 9, 10, 11, 12, 13, 14]\n",
      "{1, 2, 3, 4, 5, 6, 7, 8, 9, 10, 11, 12, 13, 14}\n",
      "{1, 2, 3, 4, 5, 6, 7, 8, 9, 10, 11, 12, 13, 14}\n",
      "{<generator object <genexpr> at 0x1063963b0>}\n"
     ]
    }
   ],
   "source": [
    "li = []\n",
    "for i in range(1, 15):\n",
    "    li.append(i)\n",
    "print(li)\n",
    "\n",
    "lis = set()\n",
    "for i in range(1, 15):\n",
    "    lis.add(i)\n",
    "print(lis)\n",
    "\n",
    "lis = set()\n",
    "lis = {x for x in range(1, 15)}\n",
    "print(lis)\n",
    "\n",
    "lis = set()\n",
    "lis.add(x for x in range(1, 15))\n",
    "print(lis)"
   ]
  },
  {
   "cell_type": "code",
   "execution_count": 175,
   "id": "8064e278-ce71-402a-b643-765f849bd288",
   "metadata": {},
   "outputs": [
    {
     "data": {
      "text/plain": [
       "{1, 2, 3, 4, 5, 6}"
      ]
     },
     "execution_count": 175,
     "metadata": {},
     "output_type": "execute_result"
    }
   ],
   "source": [
    "li = set()\n",
    "li = {x for x in range(1, 5)}\n",
    "li.update(x for x in range(3, 7))\n",
    "li"
   ]
  },
  {
   "cell_type": "markdown",
   "id": "dc9901f1-24e2-4bc3-9684-6e83626319f8",
   "metadata": {},
   "source": [
    "# list 정렬"
   ]
  },
  {
   "cell_type": "code",
   "execution_count": 193,
   "id": "5ca0b5ce-ad86-45e6-a03c-f814a3f330e0",
   "metadata": {},
   "outputs": [],
   "source": [
    "ls = [3, 2, 1, 5, 4]"
   ]
  },
  {
   "cell_type": "code",
   "execution_count": 194,
   "id": "99408bf3-8196-4987-8e8c-97222a781278",
   "metadata": {},
   "outputs": [],
   "source": [
    "ls.sort()"
   ]
  },
  {
   "cell_type": "code",
   "execution_count": 195,
   "id": "75a0fc0c-de51-4495-8cbd-7fc8aaf75697",
   "metadata": {},
   "outputs": [
    {
     "data": {
      "text/plain": [
       "[1, 2, 3, 4, 5]"
      ]
     },
     "execution_count": 195,
     "metadata": {},
     "output_type": "execute_result"
    }
   ],
   "source": [
    "ls"
   ]
  },
  {
   "cell_type": "code",
   "execution_count": 196,
   "id": "6e2b1440-00c9-446f-8549-d3ba74d8175c",
   "metadata": {},
   "outputs": [],
   "source": [
    "ls = [3, 2, 1, 5, 4]"
   ]
  },
  {
   "cell_type": "code",
   "execution_count": 197,
   "id": "264eda5e-bd4e-490d-ad47-fa3337411bfc",
   "metadata": {},
   "outputs": [],
   "source": [
    "ls.sort(reverse=True)"
   ]
  },
  {
   "cell_type": "code",
   "execution_count": 198,
   "id": "5f37c3a2-a1f3-4959-8237-7a28ce636da2",
   "metadata": {},
   "outputs": [
    {
     "data": {
      "text/plain": [
       "[5, 4, 3, 2, 1]"
      ]
     },
     "execution_count": 198,
     "metadata": {},
     "output_type": "execute_result"
    }
   ],
   "source": [
    "ls"
   ]
  },
  {
   "cell_type": "code",
   "execution_count": 202,
   "id": "407a556d-1ea8-4271-852a-e26ce5923c4a",
   "metadata": {},
   "outputs": [],
   "source": [
    "ls = [3, 2, 1, 5, 4]"
   ]
  },
  {
   "cell_type": "code",
   "execution_count": 203,
   "id": "ec5c6657-0702-447b-a769-7e29aace2ea0",
   "metadata": {},
   "outputs": [],
   "source": [
    "ls_sorted = sorted(ls)"
   ]
  },
  {
   "cell_type": "code",
   "execution_count": 204,
   "id": "ac1a1227-243e-439b-94f5-86253b013520",
   "metadata": {},
   "outputs": [
    {
     "name": "stdout",
     "output_type": "stream",
     "text": [
      "[3, 2, 1, 5, 4]\n",
      "[1, 2, 3, 4, 5]\n"
     ]
    }
   ],
   "source": [
    "print(ls)\n",
    "print(ls_sorted)"
   ]
  },
  {
   "cell_type": "code",
   "execution_count": 209,
   "id": "bf782626-3365-4a5c-9038-6abf47254692",
   "metadata": {},
   "outputs": [],
   "source": [
    "ls = [[4,8],[4,5],[10,14],[11,14],[5,12],[3,7],[1,4]]"
   ]
  },
  {
   "cell_type": "code",
   "execution_count": 210,
   "id": "24970e32-0e1b-4e1a-b4c2-712636f7e1ce",
   "metadata": {},
   "outputs": [],
   "source": [
    "ls.sort()"
   ]
  },
  {
   "cell_type": "code",
   "execution_count": 211,
   "id": "2f64f823-233f-4c38-8716-5e0fb8b43347",
   "metadata": {},
   "outputs": [
    {
     "data": {
      "text/plain": [
       "[[1, 4], [3, 7], [4, 5], [4, 8], [5, 12], [10, 14], [11, 14]]"
      ]
     },
     "execution_count": 211,
     "metadata": {},
     "output_type": "execute_result"
    }
   ],
   "source": [
    "ls"
   ]
  },
  {
   "cell_type": "code",
   "execution_count": null,
   "id": "f735e566-db46-46af-91d5-b9cb13bf36e0",
   "metadata": {},
   "outputs": [],
   "source": [
    "ls = [[4,8],[4,5],[10,14],[11,14],[5,12],[3,7],[1,4]]"
   ]
  },
  {
   "cell_type": "code",
   "execution_count": 213,
   "id": "094b9fb5-a473-4ccc-b638-50423575b3f6",
   "metadata": {},
   "outputs": [
    {
     "ename": "TypeError",
     "evalue": "'list' object is not callable",
     "output_type": "error",
     "traceback": [
      "\u001b[0;31m---------------------------------------------------------------------------\u001b[0m",
      "\u001b[0;31mTypeError\u001b[0m                                 Traceback (most recent call last)",
      "Cell \u001b[0;32mIn[213], line 1\u001b[0m\n\u001b[0;32m----> 1\u001b[0m \u001b[43mls\u001b[49m\u001b[38;5;241;43m.\u001b[39;49m\u001b[43msort\u001b[49m\u001b[43m(\u001b[49m\u001b[43mkey\u001b[49m\u001b[38;5;241;43m=\u001b[39;49m\u001b[43mls\u001b[49m\u001b[43m[\u001b[49m\u001b[38;5;241;43m1\u001b[39;49m\u001b[43m]\u001b[49m\u001b[43m)\u001b[49m\n",
      "\u001b[0;31mTypeError\u001b[0m: 'list' object is not callable"
     ]
    }
   ],
   "source": [
    "ls.sort(key=)"
   ]
  },
  {
   "cell_type": "code",
   "execution_count": null,
   "id": "f39faead-6b07-4de0-b859-36149d2c241a",
   "metadata": {},
   "outputs": [],
   "source": []
  },
  {
   "cell_type": "markdown",
   "id": "13c88d41-2ea0-4710-88bd-cc873162121e",
   "metadata": {},
   "source": [
    "# lambda 정렬"
   ]
  },
  {
   "cell_type": "code",
   "execution_count": 185,
   "id": "eec92ff9-4fe6-412e-95a7-d631e824debf",
   "metadata": {},
   "outputs": [],
   "source": [
    "ls = [3, 2, 1, 5, 4]"
   ]
  },
  {
   "cell_type": "code",
   "execution_count": 186,
   "id": "77831707-2db6-4bda-aec1-c6a0990cb0c2",
   "metadata": {},
   "outputs": [],
   "source": [
    "ls.sort(key = lambda x: x)"
   ]
  },
  {
   "cell_type": "code",
   "execution_count": 187,
   "id": "7793415d-6cab-4a1b-8a61-2b5dc975ddfc",
   "metadata": {},
   "outputs": [
    {
     "data": {
      "text/plain": [
       "[1, 2, 3, 4, 5]"
      ]
     },
     "execution_count": 187,
     "metadata": {},
     "output_type": "execute_result"
    }
   ],
   "source": [
    "ls"
   ]
  },
  {
   "cell_type": "code",
   "execution_count": 188,
   "id": "22463407-9943-41b0-a427-2b02a8e8de7e",
   "metadata": {},
   "outputs": [],
   "source": [
    "ls = [[4,5],[4,8],[10,14],[11,14],[5,12],[3,7],[1,4]]"
   ]
  },
  {
   "cell_type": "code",
   "execution_count": 189,
   "id": "d8c6dce4-6707-47a3-8739-8a81fc8654b1",
   "metadata": {},
   "outputs": [],
   "source": [
    "ls.sort(key = lambda x: [x[1], x[0]])"
   ]
  },
  {
   "cell_type": "code",
   "execution_count": 190,
   "id": "9c01ff1f-4d46-4a1e-9598-9e27e6b64dd4",
   "metadata": {},
   "outputs": [
    {
     "data": {
      "text/plain": [
       "[[1, 4], [4, 5], [3, 7], [4, 8], [5, 12], [10, 14], [11, 14]]"
      ]
     },
     "execution_count": 190,
     "metadata": {},
     "output_type": "execute_result"
    }
   ],
   "source": [
    "ls"
   ]
  },
  {
   "cell_type": "code",
   "execution_count": 214,
   "id": "da7e8e28-e3ed-439d-b970-847e76955bc4",
   "metadata": {},
   "outputs": [],
   "source": [
    "ls = [[4, 8], [4, 5], [10, 14], [11, 14], [5, 12], [3, 7], [1, 4]]"
   ]
  },
  {
   "cell_type": "code",
   "execution_count": 215,
   "id": "6fc5cba3-5531-463f-998e-aaaebbb8a9d4",
   "metadata": {},
   "outputs": [],
   "source": [
    "# 정렬에 사용할 함수 정의\n",
    "def sort_by_second_element(element):\n",
    "    return element[1]"
   ]
  },
  {
   "cell_type": "code",
   "execution_count": 216,
   "id": "dba9e9c8-aa92-494c-b089-3e384b664979",
   "metadata": {},
   "outputs": [],
   "source": [
    "# 정렬 수행\n",
    "sorted_ls = sorted(ls, key=sort_by_second_element)"
   ]
  },
  {
   "cell_type": "code",
   "execution_count": 217,
   "id": "baddc71d-afc2-43bc-a5e3-0f933da4f581",
   "metadata": {},
   "outputs": [
    {
     "name": "stdout",
     "output_type": "stream",
     "text": [
      "[[1, 4], [4, 5], [3, 7], [4, 8], [5, 12], [10, 14], [11, 14]]\n"
     ]
    }
   ],
   "source": [
    "# 결과 출력\n",
    "print(sorted_ls)"
   ]
  },
  {
   "cell_type": "markdown",
   "id": "d091c651-c704-4205-a5fa-df244334eb0f",
   "metadata": {},
   "source": [
    "# ㅠㅠ"
   ]
  },
  {
   "cell_type": "code",
   "execution_count": 9,
   "id": "17092fc4-4612-424f-8baf-682c80afa87a",
   "metadata": {},
   "outputs": [],
   "source": [
    "# 첫 제출 코드\n",
    "# 제출시 아래와 같이 시간초과가 발생함"
   ]
  },
  {
   "cell_type": "code",
   "execution_count": null,
   "id": "ea006d52-97db-4824-9838-0d9502b6db56",
   "metadata": {},
   "outputs": [],
   "source": [
    "# 전체 코드\n",
    "from itertools import combinations\n",
    "\n",
    "def solution(targets):\n",
    "    # 변수 선언\n",
    "    all_target_coord = set()\n",
    "    shoot_point = []\n",
    "    shoot_counts = []\n",
    "    \n",
    "    # target을 [시작점, 끝점] 에서 [시작점, 시작점 + 1 ... 끝점] 으로 변경\n",
    "    for i, target in enumerate(targets):\n",
    "        targets[i] = [x for x in range(target[0], target[1])]\n",
    "        # all_target_coord에 좌표를 추가\n",
    "        for point in targets[i]:\n",
    "            all_target_coord.add(point)\n",
    "\n",
    "    # 격추할 수 있는 미사일이 2개 이상인 슈팅포인트 리스팅\n",
    "    for i in all_target_coord:\n",
    "        count = 0\n",
    "        for target in targets:\n",
    "            if i in target:\n",
    "                count += 1\n",
    "        if count > 1:\n",
    "            shoot_point.append(i)\n",
    "    \n",
    "    # 미사일을 i 개 발사하는 각 경우의 수에서 모든 미사일을 격추하기 위한 발사 횟수 리스팅\n",
    "    for i in range(len(shoot_point)):\n",
    "        for comb in combinations(shoot_point, i+1):\n",
    "            remove_set = set()\n",
    "            for shoot in comb:\n",
    "                for target in targets:\n",
    "                    if shoot in target:\n",
    "                        remove_set.add(frozenset(target))\n",
    "            shoot_counts.append(i + 1 + len(targets) - len(remove_set))\n",
    "\n",
    "    return min(shoot_counts)"
   ]
  },
  {
   "attachments": {
    "379594fe-2bdb-4ba4-8593-fdee6b919f04.png": {
     "image/png": "[encoded data removed]"
    }
   },
   "cell_type": "markdown",
   "id": "2d3bb3c7-6d93-47e5-b8a6-e68d7fd8afb1",
   "metadata": {},
   "source": [
    "![image.png](attachment:379594fe-2bdb-4ba4-8593-fdee6b919f04.png)"
   ]
  },
  {
   "cell_type": "code",
   "execution_count": 68,
   "id": "8f949194-22fe-46db-b0f6-ba96147ee426",
   "metadata": {},
   "outputs": [],
   "source": [
    "# 그래서 아예 접근방식을 바꿔 교집합으로 접근해봄"
   ]
  },
  {
   "cell_type": "code",
   "execution_count": null,
   "id": "9f178278-4a2e-446d-afce-443e60250cd8",
   "metadata": {},
   "outputs": [],
   "source": [
    "# 전체 함수\n",
    "from itertools import combinations\n",
    "\n",
    "def solution(targets):\n",
    "    \n",
    "    # 교집합 구하기\n",
    "    # 한 번에 격추할 수 있는 경우는?\n",
    "    # target a와 target b가 있다고 할 때\n",
    "    # target b의 시작점이 target a의 시작점과 끝점 사이에 있으면 함께 격추할 수 있음\n",
    "    multikill_list = []\n",
    "\n",
    "    for i, target_a in enumerate(targets):\n",
    "        for target_b in targets:\n",
    "            if target_b[0] in range(target_a[0], target_a[1]):\n",
    "                try:\n",
    "                    multikill_list[i].append(target_b)\n",
    "                except:\n",
    "                    multikill_list.insert(i, [target_a])\n",
    "    \n",
    "    # 미사일을 i 개 발사하는 각 경우의 수에서 모든 미사일을 격추하기 위한 발사 횟수 리스팅\n",
    "    shoot_counts = []\n",
    "\n",
    "    for i in range(len(multikill_list)):\n",
    "        for comb in combinations(multikill_list, i+1):\n",
    "            remove_set = set()\n",
    "            multikills = []\n",
    "            for c in comb:\n",
    "                multikills.extend(c)\n",
    "            for target in targets:\n",
    "                if target in multikills:\n",
    "                    remove_set.add(frozenset(target))\n",
    "            shoot_counts.append(i + 1 + len(targets) - len(remove_set))\n",
    "\n",
    "    return min(shoot_counts)"
   ]
  },
  {
   "attachments": {
    "6d057043-75e6-44bc-bc25-ebff3e8cc4b0.png": {
     "image/png": "[encoded data removed]"
    }
   },
   "cell_type": "markdown",
   "id": "8e15b35a-bdf6-4ddb-add4-a4d86c470cf4",
   "metadata": {},
   "source": [
    "![image.png](attachment:6d057043-75e6-44bc-bc25-ebff3e8cc4b0.png)"
   ]
  },
  {
   "cell_type": "code",
   "execution_count": null,
   "id": "fe12babb-300c-4d3e-9041-5411b924c4f6",
   "metadata": {},
   "outputs": [],
   "source": [
    "# 참고로 이거 첫 부분인 교집합 구하는 부분만 실행해도 시간 초과가 발생함"
   ]
  },
  {
   "cell_type": "code",
   "execution_count": 236,
   "id": "7efb6d13-6cb0-4a26-b933-36eea5794386",
   "metadata": {},
   "outputs": [],
   "source": [
    "# 결국 다른 사람 코드를 참고하여 진행했다."
   ]
  },
  {
   "cell_type": "code",
   "execution_count": 237,
   "id": "e9b0f057-e8d7-4f3a-bbef-2293226cd631",
   "metadata": {},
   "outputs": [],
   "source": [
    "# 전체 함수\n",
    "\n",
    "# 정렬을 위한 함수\n",
    "def sort_list(list):\n",
    "    return [list[1], list[0]]\n",
    "\n",
    "def solution(targets):\n",
    "\n",
    "    # 앞서있는 target a라는 미사일과 그 뒤에 target b라는 미사일이 있을 때\n",
    "    # 이들을 한꺼번에 요걱하기 위해선 target b의 시작점이 target a의 사이\n",
    "    # 즉 target a의 끝지점 이전에 있어야 한다.\n",
    "\n",
    "    # 정렬하기\n",
    "    targets.sort(key=sort_list)\n",
    "\n",
    "    # 끝점에 따라 요격하고\n",
    "    # 다음 미사일의 시작점이 앞 미사일의 시작점 전이면 함께 요격되는 것으로 여긴다\n",
    "    count = 0\n",
    "    last_shoot_point = 0\n",
    "    \n",
    "    for target in targets:\n",
    "        if target[0] >= last_shoot_point:\n",
    "            count += 1\n",
    "            last_shoot_point = target[1]\n",
    "    \n",
    "\n",
    "    return count"
   ]
  },
  {
   "attachments": {
    "8dec87f1-6e8c-4061-85ce-34f8da371589.png": {
     "image/png": "[encoded data removed]"
    }
   },
   "cell_type": "markdown",
   "id": "9f13c163-6ba3-405a-bf0c-cff6e49a9395",
   "metadata": {},
   "source": [
    "![image.png](attachment:8dec87f1-6e8c-4061-85ce-34f8da371589.png)"
   ]
  },
  {
   "cell_type": "markdown",
   "id": "1138a2d2",
   "metadata": {},
   "source": [
    "# Reference"
   ]
  },
  {
   "cell_type": "code",
   "execution_count": null,
   "id": "62f71845",
   "metadata": {},
   "outputs": [],
   "source": [
    "https://wikidocs.net/16040\n",
    "https://armontad-1202.tistory.com/entry/%ED%8C%8C%EC%9D%B4%EC%8D%AC-%EB%AA%A8%EB%93%A0-%EA%B2%BD%EC%9A%B0%EC%9D%98-%EC%88%98-%EC%B6%94%EC%B6%9C-%EA%B0%80%EB%8A%A5%ED%95%9C-%EB%9D%BC%EC%9D%B4%EB%B8%8C%EB%9F%AC%EB%A6%AC\n",
    "https://wikidocs.net/16044\n",
    "https://www.daleseo.com/python-range/\n",
    "https://wikidocs.net/16041\n",
    "https://velog.io/@mang0206/%ED%94%84%EB%A1%9C%EA%B7%B8%EB%9E%98%EB%A8%B8%EC%8A%A4-%EC%9A%94%EA%B2%A9-%EC%8B%9C%EC%8A%A4%ED%85%9C-python"
   ]
  }
 ],
 "metadata": {
  "kernelspec": {
   "display_name": "Python 3 (ipykernel)",
   "language": "python",
   "name": "python3"
  },
  "language_info": {
   "codemirror_mode": {
    "name": "ipython",
    "version": 3
   },
   "file_extension": ".py",
   "mimetype": "text/x-python",
   "name": "python",
   "nbconvert_exporter": "python",
   "pygments_lexer": "ipython3",
   "version": "3.10.10"
  }
 },
 "nbformat": 4,
 "nbformat_minor": 5
}
