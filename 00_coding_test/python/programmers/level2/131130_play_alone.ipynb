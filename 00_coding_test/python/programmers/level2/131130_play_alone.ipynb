{
 "cells": [
  {
   "cell_type": "code",
   "execution_count": null,
   "metadata": {},
   "outputs": [],
   "source": [
    "\n",
    "# 문제 추상화\n",
    "# (1) 배열에 1 ~ 100 까지의 자연수를 랜덤한 순서로 섞어 넣는다.\n",
    "# (2) 임의의 원소를 선택하고, 그 원소값에 해당하는 인덱스의 원소번호로 이동해서 숫자를 확인한다.\n",
    "# (3) 2번 방법을 \"이미 확인한 숫자\"를 만날 때까지 반복한다.\n",
    "# (4) 이미 확인한 숫자를 만났다면, 그때까지 확인한 원소의 개수가 1번 그룹의 값이다.\n",
    "# (5) 다시 임의의 원소를 선택하고, 2~4번을 반복한다.\n",
    "# (6) 1, 2, 3, 4 ... n 개의 그룹이 생겼다면, 각 그룹의 원소 개수들을 모두 곱한 값을 반환한다.\n",
    "# (7) 이렇게 반환되는 값 중 가장 큰 값을 반환한라. \n",
    "\n",
    "# 2의 제곱\n",
    "# 1 -> 2 -> 1 / 3 -> 4 -> 3 ... 으로 각 그룹이 2개씩 짝지어질 때 카드가 n 개라면\n",
    "# 2의 (n//2) 제곱을 반환값으로 가지게 된다.\n",
    "# 아 근데 이게 무의미한게 cards 상자 순서를 정해서 주네\n",
    "\n",
    "# 각 원소에서 시작했을 때 끝나는 순서\n",
    "\n",
    "# 구현 각 원소에서 시작했을 때 끝날 때까지의 (1) 원소 개수 와 (2) 나머지 카드 현황\n",
    "\n",
    "\n",
    "\n",
    "# 문제 공부할 점\n",
    "# (1) while 에 대한 정확한 의미. while은 해당 조건문이 참인 동안에 작동한다.\n",
    "# 이걸 쉽게 기억하려면 while True 는 무한 반복임을 기억하면 된다.\n",
    "# (2) 문제 보니까.. 이게.. 원리를 잘 파악하고 알고리즘을 생각하고 들어가야겠네\n",
    "# (3) 제발 !!!! 제한 사항 좀 읽어라 -> 한 번에 끝나면 0으로 반환임\n",
    "# (4) 문제 좀 잘 읽자 1번 그룹과 2번 그룹 개수를 곱하는거니까 2개 뽑아서 최대값이네."
   ]
  },
  {
   "cell_type": "code",
   "execution_count": 43,
   "metadata": {},
   "outputs": [],
   "source": [
    "cards = [8,6,3,7,2,5,1,4]"
   ]
  },
  {
   "cell_type": "code",
   "execution_count": null,
   "metadata": {},
   "outputs": [
    {
     "data": {
      "text/plain": [
       "12"
      ]
     },
     "execution_count": 37,
     "metadata": {},
     "output_type": "execute_result"
    }
   ],
   "source": [
    "# 시도 1\n",
    "count_list = []\n",
    "for i, idx in enumerate(cards):\n",
    "    count = 0\n",
    "    while cards[idx-1] != 0:\n",
    "        count += 1\n",
    "        value = cards[idx-1]\n",
    "        cards[idx-1] = 0\n",
    "        idx = value\n",
    "    if count != 0:\n",
    "        count_list.append(count)\n",
    "        \n",
    "result = 1\n",
    "for count in count_list:\n",
    "    result *= count\n",
    "result\n",
    "    "
   ]
  },
  {
   "cell_type": "code",
   "execution_count": 60,
   "metadata": {},
   "outputs": [],
   "source": [
    "# 시도 2\n",
    "def solution(cards):\n",
    "    count_list = []\n",
    "    for i, idx in enumerate(cards):\n",
    "        count = 0\n",
    "        while cards[idx-1] != 0:\n",
    "            count += 1\n",
    "            value = cards[idx-1]\n",
    "            cards[idx-1] = 0\n",
    "            idx = value\n",
    "        if count != 0:\n",
    "            count_list.append(count)\n",
    "\n",
    "    if len(count_list) == 1:\n",
    "        return 0\n",
    "    else:\n",
    "        result = 1\n",
    "        for count in count_list:\n",
    "            result *= count\n",
    "        print(count_list)\n",
    "        return result"
   ]
  },
  {
   "cell_type": "code",
   "execution_count": 61,
   "metadata": {},
   "outputs": [
    {
     "name": "stdout",
     "output_type": "stream",
     "text": [
      "[4, 3, 1]\n"
     ]
    },
    {
     "data": {
      "text/plain": [
       "12"
      ]
     },
     "execution_count": 61,
     "metadata": {},
     "output_type": "execute_result"
    }
   ],
   "source": [
    "cards = [8,6,3,7,2,5,1,4]\n",
    "solution(cards)"
   ]
  },
  {
   "cell_type": "code",
   "execution_count": null,
   "metadata": {},
   "outputs": [],
   "source": [
    "# 시도 3\n",
    "def solution(cards):\n",
    "    count_list = []\n",
    "    for i, idx in enumerate(cards):\n",
    "        count = 0\n",
    "        while cards[idx-1] != 0:\n",
    "            count += 1\n",
    "            value = cards[idx-1]\n",
    "            cards[idx-1] = 0\n",
    "            idx = value\n",
    "        if count != 0:\n",
    "            count_list.append(count)\n",
    "    if len(count_list) == 1:\n",
    "        return 0\n",
    "    count_list = sorted(count_list, key=lambda x:x, reverse=True)\n",
    "    return count_list[0] * count_list[1] # 문제를 잘 읽자. 1번 그룹과 2번 그룹 개수의 곱이다."
   ]
  },
  {
   "cell_type": "code",
   "execution_count": 59,
   "metadata": {},
   "outputs": [
    {
     "data": {
      "text/plain": [
       "12"
      ]
     },
     "execution_count": 59,
     "metadata": {},
     "output_type": "execute_result"
    }
   ],
   "source": [
    "cards = [8,6,3,7,2,5,1,4]\n",
    "solution(cards)"
   ]
  },
  {
   "cell_type": "code",
   "execution_count": null,
   "metadata": {},
   "outputs": [],
   "source": []
  }
 ],
 "metadata": {
  "kernelspec": {
   "display_name": "base",
   "language": "python",
   "name": "python3"
  },
  "language_info": {
   "codemirror_mode": {
    "name": "ipython",
    "version": 3
   },
   "file_extension": ".py",
   "mimetype": "text/x-python",
   "name": "python",
   "nbconvert_exporter": "python",
   "pygments_lexer": "ipython3",
   "version": "3.10.10"
  }
 },
 "nbformat": 4,
 "nbformat_minor": 2
}
