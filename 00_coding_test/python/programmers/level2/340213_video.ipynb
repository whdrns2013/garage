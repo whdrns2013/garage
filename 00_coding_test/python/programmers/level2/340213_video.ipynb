{
 "cells": [
  {
   "cell_type": "markdown",
   "metadata": {},
   "source": [
    "## 문제 설명  \n",
    "\n",
    "당신은 동영상 재생기를 만들고 있습니다. 당신의 동영상 재생기는 10초 전으로 이동, 10초 후로 이동, 오프닝 건너뛰기 3가지 기능을 지원합니다. 각 기능이 수행하는 작업은 다음과 같습니다.\n",
    "\n",
    "10초 전으로 이동: 사용자가 \"prev\" 명령을 입력할 경우 동영상의 재생 위치를 현재 위치에서 10초 전으로 이동합니다. 현재 위치가 10초 미만인 경우 영상의 처음 위치로 이동합니다. 영상의 처음 위치는 0분 0초입니다.\n",
    "10초 후로 이동: 사용자가 \"next\" 명령을 입력할 경우 동영상의 재생 위치를 현재 위치에서 10초 후로 이동합니다. 동영상의 남은 시간이 10초 미만일 경우 영상의 마지막 위치로 이동합니다. 영상의 마지막 위치는 동영상의 길이와 같습니다.\n",
    "오프닝 건너뛰기: 현재 재생 위치가 오프닝 구간(op_start ≤ 현재 재생 위치 ≤ op_end)인 경우 자동으로 오프닝이 끝나는 위치로 이동합니다.\n",
    "동영상의 길이를 나타내는 문자열 video_len, 기능이 수행되기 직전의 재생위치를 나타내는 문자열 pos, 오프닝 시작 시각을 나타내는 문자열 op_start, 오프닝이 끝나는 시각을 나타내는 문자열 op_end, 사용자의 입력을 나타내는 1차원 문자열 배열 commands가 매개변수로 주어집니다. 이때 사용자의 입력이 모두 끝난 후 동영상의 위치를 \"mm:ss\" 형식으로 return 하도록 solution 함수를 완성해 주세요.\n",
    "\n",
    "## 제한사항  \n",
    "\n",
    "video_len의 길이 = pos의 길이 = op_start의 길이 = op_end의 길이 = 5\n",
    "video_len, pos, op_start, op_end는 \"mm:ss\" 형식으로 mm분 ss초를 나타냅니다.\n",
    "0 ≤ mm ≤ 59\n",
    "0 ≤ ss ≤ 59\n",
    "분, 초가 한 자리일 경우 0을 붙여 두 자리로 나타냅니다.\n",
    "비디오의 현재 위치 혹은 오프닝이 끝나는 시각이 동영상의 범위 밖인 경우는 주어지지 않습니다.\n",
    "오프닝이 시작하는 시각은 항상 오프닝이 끝나는 시각보다 전입니다.\n",
    "1 ≤ commands의 길이 ≤ 100\n",
    "commands의 원소는 \"prev\" 혹은 \"next\"입니다.\n",
    "\"prev\"는 10초 전으로 이동하는 명령입니다.\n",
    "\"next\"는 10초 후로 이동하는 명령입니다.\n",
    "\n",
    "## 입출력 예  \n",
    "\n",
    "|video_len\t|pos\t|op_start\t|op_end\t|commands\t|result|\n",
    "|--|--|--|--|--|--|\n",
    "|\"34:33\"\t|\"13:00\"\t|\"00:55\"\t|\"02:55\"\t|[\"next\", \"prev\"]\t|\"13:00\"|\n",
    "|\"10:55\"\t|\"00:05\"\t|\"00:15\"\t|\"06:55\"\t|[\"prev\", \"next\", \"next\"]\t|\"06:55\"|\n",
    "|\"07:22\"\t|\"04:05\"\t|\"00:15\"\t|\"04:07\"\t|[\"next\"]\t|\"04:17\"|\n",
    "\n",
    "## 입출력 예 설명  \n",
    "\n",
    "입출력 예 #1\n",
    "\n",
    "시작 위치 13분 0초에서 10초 후로 이동하면 13분 10초입니다.\n",
    "13분 10초에서 10초 전으로 이동하면 13분 0초입니다.\n",
    "따라서 \"13:00\"을 return 하면 됩니다.\n",
    "\n",
    "\n",
    "입출력 예 #2\n",
    "\n",
    "시작 위치 0분 5초에서 10초 전으로 이동합니다. 현재 위치가 10초 미만이기 때문에 0분 0초로 이동합니다.\n",
    "0분 0초에서 10초 후로 이동하면 0분 10초입니다.\n",
    "0분 10초에서 10초 후로 이동하면 0분 20초입니다. 0분 20초는 오프닝 구간이기 때문에 오프닝이 끝나는 위치인 6분 55초로 이동합니다. 따라서 \"06:55\"를 return 하면 됩니다.\n",
    "\n",
    "\n",
    "입출력 예 #3\n",
    "\n",
    "시작 위치 4분 5초는 오프닝 구간이기 때문에 오프닝이 끝나는 위치인 4분 7초로 이동합니다. 4분 7초에서 10초 후로 이동하면 4분 17초입니다. 따라서 \"04:17\"을 return 하면 됩니다."
   ]
  },
  {
   "cell_type": "code",
   "execution_count": null,
   "metadata": {},
   "outputs": [],
   "source": [
    "def solution(video_len, pos, op_start, op_end, commands):\n",
    "    # convert min to sec\n",
    "    def convert_to_sec(time):\n",
    "        return 60*int(time.split(':')[0]) + int(time.split(':')[1])\n",
    "    video_len = convert_to_sec(video_len)\n",
    "    pos = convert_to_sec(pos)\n",
    "    op_start = convert_to_sec(op_start)\n",
    "    op_end = convert_to_sec(op_end)\n",
    "    # run commands\n",
    "    for command in commands:\n",
    "        if (pos <= op_end) & (pos >= op_start):\n",
    "            pos = op_end\n",
    "        if command == 'next':\n",
    "            pos = min(pos + 10, video_len)\n",
    "        elif command == 'prev':\n",
    "            pos = max(pos - 10, 0)\n",
    "        if (pos <= op_end) & (pos >= op_start):\n",
    "            pos = op_end\n",
    "    #conver sec to min\n",
    "    answer = str(pos//60).zfill(2) + ':' + str(pos%60).zfill(2)\n",
    "    return answer"
   ]
  },
  {
   "cell_type": "code",
   "execution_count": null,
   "metadata": {},
   "outputs": [],
   "source": []
  }
 ],
 "metadata": {
  "kernelspec": {
   "display_name": "base",
   "language": "python",
   "name": "python3"
  },
  "language_info": {
   "name": "python",
   "version": "3.10.10"
  }
 },
 "nbformat": 4,
 "nbformat_minor": 2
}
