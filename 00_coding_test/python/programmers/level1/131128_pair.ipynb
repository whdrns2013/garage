{
 "cells": [
  {
   "cell_type": "markdown",
   "metadata": {},
   "source": [
    "# 프로그래머스 - 숫자 짝꿍"
   ]
  },
  {
   "cell_type": "markdown",
   "metadata": {},
   "source": [
    "## 문제 설명  \n",
    "\n",
    "두 정수 X, Y의 임의의 자리에서 공통으로 나타나는 정수 k(0 ≤ k ≤ 9)들을 이용하여 만들 수 있는 가장 큰 정수를 두 수의 짝꿍이라 합니다(단, 공통으로 나타나는 정수 중 서로 짝지을 수 있는 숫자만 사용합니다). X, Y의 짝꿍이 존재하지 않으면, 짝꿍은 -1입니다. X, Y의 짝꿍이 0으로만 구성되어 있다면, 짝꿍은 0입니다.\n",
    "\n",
    "예를 들어, X = 3403이고 Y = 13203이라면, X와 Y의 짝꿍은 X와 Y에서 공통으로 나타나는 3, 0, 3으로 만들 수 있는 가장 큰 정수인 330입니다. 다른 예시로 X = 5525이고 Y = 1255이면 X와 Y의 짝꿍은 X와 Y에서 공통으로 나타나는 2, 5, 5로 만들 수 있는 가장 큰 정수인 552입니다(X에는 5가 3개, Y에는 5가 2개 나타나므로 남는 5 한 개는 짝 지을 수 없습니다.)\n",
    "두 정수 X, Y가 주어졌을 때, X, Y의 짝꿍을 return하는 solution 함수를 완성해주세요.\n",
    "\n",
    "## 제한 사항  \n",
    "\n",
    "3 ≤ X, Y의 길이(자릿수) ≤ 3,000,000입니다.  \n",
    "X, Y는 0으로 시작하지 않습니다.  \n",
    "X, Y의 짝꿍은 상당히 큰 정수일 수 있으므로, 문자열로 반환합니다.  \n",
    "\n",
    "## 입출력 예  \n",
    "\n",
    "X\tY\tresult  \n",
    "\"100\"\t\"2345\"\t\"-1\"  \n",
    "\"100\"\t\"203045\"\t\"0\"  \n",
    "\"100\"\t\"123450\"\t\"10\"  \n",
    "\"12321\"\t\"42531\"\t\"321\"  \n",
    "\"5525\"\t\"1255\"\t\"552\"  \n",
    "\n",
    "입출력 예 #1\n",
    "\n",
    "X, Y의 짝꿍은 존재하지 않습니다. 따라서 \"-1\"을 return합니다.\n",
    "\n",
    "입출력 예 #2\n",
    "\n",
    "X, Y의 공통된 숫자는 0으로만 구성되어 있기 때문에, 두 수의 짝꿍은 정수 0입니다. 따라서 \"0\"을 return합니다.\n",
    "\n",
    "입출력 예 #3\n",
    "\n",
    "X, Y의 짝꿍은 10이므로, \"10\"을 return합니다.\n",
    "\n",
    "입출력 예 #4\n",
    "\n",
    "X, Y의 짝꿍은 321입니다. 따라서 \"321\"을 return합니다.\n",
    "\n",
    "입출력 예 #5\n",
    "\n",
    "지문에 설명된 예시와 같습니다."
   ]
  },
  {
   "cell_type": "code",
   "execution_count": null,
   "metadata": {},
   "outputs": [],
   "source": [
    "# 문제 요약  \n",
    "# (1) 두 정수 X, Y를 이루는 각 자리수를 포함한 리스트를 A, B 라고 했을 때  \n",
    "# (2) 리스트 A, B 에 포함된 원소 중 상대방과 겹치는 원소들을 이어 숫자를 구성했을 때  \n",
    "# (3) 가장 큰 수를 반환하라  \n",
    "\n",
    "# 문제 추상화  \n",
    "# (1) 정수 X, Y 를 각각 10의 n승(-1<=n 정수)으로 나눌 때의 계수는 1 ~ 9와, 정수 X, Y 에서 해당 계수 등장하는 횟수를 짝짓는다.  \n",
    "# (2) 자연수 1 ~ 9 를 순환하며 각 정수 X, Y 로부터 뽑아낸 구성 계수의 개수 중 해당 자연수에 해당하는 최소의 개수를 도출한다.  \n",
    "# (4) 이렇게 도출한 자연수 세트로 만들 수 있는 가장 큰 수를 구하여 반환한다.  \n",
    "\n",
    "# 주의할 점\n",
    "# 자료형의 표현 범위와 에러 주의"
   ]
  },
  {
   "cell_type": "code",
   "execution_count": null,
   "metadata": {},
   "outputs": [],
   "source": [
    "# 시도 1 : 속도때문에 안됨\n",
    "\n",
    "def digit_count(str_number):\n",
    "    result_dict = dict()\n",
    "    for i in range(0, 10):\n",
    "        result_dict[i] = string_set.count(str(i))\n",
    "    return result_dict\n",
    "\n",
    "def solution(X, Y):\n",
    "    X_dict = digit_count(X)\n",
    "    Y_dict = digit_count(Y)\n",
    "    \n",
    "    result_dict = dict()\n",
    "    for i in range(0, 10):\n",
    "        result_dict[i] = min(X_dict[i], Y_dict[i])\n",
    "    result_dict_sorted = sorted(result_dict.items(), key=lambda x:x[0], reverse=True)\n",
    "    \n",
    "    answer = ''\n",
    "    count = 0\n",
    "    \n",
    "    for i in range(len(result_dict_sorted)):\n",
    "        number = result_dict_sorted[i][0] \n",
    "        quant = result_dict_sorted[i][1]\n",
    "        if quant == 0:\n",
    "            pass\n",
    "        else:\n",
    "            count += 1\n",
    "            answer = answer + str(number) * quant\n",
    "            \n",
    "    if count == 0:\n",
    "        return '-1'\n",
    "    else:\n",
    "        return str(int(answer))"
   ]
  },
  {
   "cell_type": "code",
   "execution_count": null,
   "metadata": {},
   "outputs": [],
   "source": [
    "# 시도 2. 제발 꼼꼼히좀 하자\n",
    "\n",
    "def solution(X, Y):\n",
    "    answer = ''\n",
    "    count = 0\n",
    "    for i in range(0, 10):\n",
    "        idx = str(9-i)\n",
    "        X_count = X.count(idx)\n",
    "        Y_count = Y.count(idx)\n",
    "        answer = answer + (idx * (max(X_count, Y_count) - abs(X_count - Y_count)))\n",
    "        if (X_count >= 0) or (Y_count >= 0): # 이거.. or 면 안되고, >= 이 아닌 > 여야 함\n",
    "            count += 1\n",
    "    if count >= 0: # >= 가 아니라 > 여야 함\n",
    "        return str(int(answer))\n",
    "    else:\n",
    "        return '-1'"
   ]
  },
  {
   "cell_type": "code",
   "execution_count": null,
   "metadata": {},
   "outputs": [],
   "source": [
    "# 시도 3 : 시간 초과\n",
    "\n",
    "def solution(X, Y):\n",
    "    answer = ''\n",
    "    count = 0\n",
    "    for i in range(0, 10):\n",
    "        idx = str(9-i)\n",
    "        X_count = X.count(idx)\n",
    "        Y_count = Y.count(idx)\n",
    "        answer = answer + (idx * (max(X_count, Y_count) - abs(X_count - Y_count)))\n",
    "        if (X_count > 0) and (Y_count > 0):\n",
    "            count += 1\n",
    "    if count > 0:\n",
    "        return str(int(answer))\n",
    "    else:\n",
    "        return '-1'"
   ]
  },
  {
   "cell_type": "code",
   "execution_count": 46,
   "metadata": {},
   "outputs": [
    {
     "ename": "ValueError",
     "evalue": "Exceeds the limit (4300) for integer string conversion: value has 3000000 digits; use sys.set_int_max_str_digits() to increase the limit",
     "output_type": "error",
     "traceback": [
      "\u001b[0;31m---------------------------------------------------------------------------\u001b[0m",
      "\u001b[0;31mValueError\u001b[0m                                Traceback (most recent call last)",
      "Cell \u001b[0;32mIn[46], line 5\u001b[0m\n\u001b[1;32m      3\u001b[0m a \u001b[38;5;241m=\u001b[39m \u001b[38;5;124m'\u001b[39m\u001b[38;5;124m1523086602\u001b[39m\u001b[38;5;124m'\u001b[39m \u001b[38;5;241m*\u001b[39m \u001b[38;5;241m300000\u001b[39m\n\u001b[1;32m      4\u001b[0m a\u001b[38;5;241m.\u001b[39mcount(\u001b[38;5;124m'\u001b[39m\u001b[38;5;124m3\u001b[39m\u001b[38;5;124m'\u001b[39m)\n\u001b[0;32m----> 5\u001b[0m b \u001b[38;5;241m=\u001b[39m \u001b[38;5;28;43mint\u001b[39;49m\u001b[43m(\u001b[49m\u001b[43ma\u001b[49m\u001b[43m)\u001b[49m\n",
      "\u001b[0;31mValueError\u001b[0m: Exceeds the limit (4300) for integer string conversion: value has 3000000 digits; use sys.set_int_max_str_digits() to increase the limit"
     ]
    }
   ],
   "source": [
    "# 시도 4 : 테스트해보니 300만자리에서 count 하는 건 문제 없지만 int 로 변경이 안됨\n",
    "\n",
    "a = '1523086602' * 300000\n",
    "a.count('3')\n",
    "b = int(a)"
   ]
  },
  {
   "cell_type": "code",
   "execution_count": null,
   "metadata": {},
   "outputs": [],
   "source": [
    "# 시도 5 : int 형의 표현 범위와 에러 주의\n",
    "\n",
    "def solution(X, Y):\n",
    "    answer = ''\n",
    "    count = 0\n",
    "    for i in range(0, 10):\n",
    "        idx = str(9-i)\n",
    "        X_count = X.count(idx)\n",
    "        Y_count = Y.count(idx)\n",
    "        answer = answer + (idx * (max(X_count, Y_count) - abs(X_count - Y_count)))\n",
    "        if (X_count > 0) and (Y_count > 0):\n",
    "            count += 1\n",
    "    if count > 0:\n",
    "        if answer.count('0') == len(answer):\n",
    "            return '0'\n",
    "        else:\n",
    "            return answer\n",
    "    else:\n",
    "        return '-1'"
   ]
  }
 ],
 "metadata": {
  "kernelspec": {
   "display_name": "base",
   "language": "python",
   "name": "python3"
  },
  "language_info": {
   "codemirror_mode": {
    "name": "ipython",
    "version": 3
   },
   "file_extension": ".py",
   "mimetype": "text/x-python",
   "name": "python",
   "nbconvert_exporter": "python",
   "pygments_lexer": "ipython3",
   "version": "3.10.10"
  }
 },
 "nbformat": 4,
 "nbformat_minor": 2
}
