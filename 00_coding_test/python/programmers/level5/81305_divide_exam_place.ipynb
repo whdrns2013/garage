{
 "cells": [
  {
   "cell_type": "markdown",
   "metadata": {},
   "source": [
    "|k|num|links|result|\n",
    "|---|---|---|---|\n",
    "|3|[12, 30, 1, 8, 8, 6, 20, 7, 5, 10, 4, 1]|[[-1, -1], [-1, -1], [-1, -1], [-1, -1], [8, 5], [2, 10], [3, 0], [6, 1], [11, -1], [7, 4], [-1, -1], [-1, -1]]|40|\n",
    "|1|[6, 9, 7, 5]|[[-1, -1], [-1, -1], [-1, 0], [2, 1]]|27|\n",
    "|2|[6, 9, 7, 5]|[[-1, -1], [-1, -1], [-1, 0], [2, 1]]|14|\n",
    "|4|[6, 9, 7, 5]|[[-1, -1], [-1, -1], [-1, 0], [2, 1]]|9|"
   ]
  },
  {
   "cell_type": "markdown",
   "metadata": {},
   "source": [
    "### 루트 노드 탐색"
   ]
  },
  {
   "cell_type": "code",
   "execution_count": 15,
   "metadata": {},
   "outputs": [],
   "source": [
    "links = [[-1, -1], [-1, -1], [-1, -1], [-1, -1], [8, 5], [2, 10], [3, 0], [6, 1], [11, -1], [7, 4], [-1, -1], [-1, -1]]\n",
    "num = [12, 30, 1, 8, 8, 6, 20, 7, 5, 10, 4, 1]"
   ]
  },
  {
   "cell_type": "code",
   "execution_count": 18,
   "metadata": {},
   "outputs": [],
   "source": [
    "# 루트 노드 탐색 (1) --> 복잡도 = O(n^2)\n",
    "def search_root_node(links):\n",
    "    count = 0\n",
    "    root = 0\n",
    "    for i in range(len(links)): # for 문에\n",
    "        for link in links:      # for 문이므로\n",
    "            if i in link:\n",
    "                count += 1\n",
    "            else:\n",
    "                pass\n",
    "        if count == 0:\n",
    "            root = i\n",
    "        else:\n",
    "            count = 0\n",
    "    return root\n",
    "        \n",
    "# 루트 노드 탐색 (2) --> 복잡도 = O(n)\n",
    "def search_root_node(links):\n",
    "    all_set = list(set([ x for link in links for x in link ]))\n",
    "    for i in range(len(links)): # for 문 한 번\n",
    "        if i not in all_set:\n",
    "            return i\n",
    "\n",
    "# 루트 노드 탐색 (3) --> 메모리 효율성 증가 + 복잡도 = O(n)\n",
    "def search_root_node(links):\n",
    "    n = len(links)\n",
    "    counts = [0] * n\n",
    "    \n",
    "    for left, right in links:\n",
    "        if left != -1:\n",
    "            counts[left] += 1\n",
    "        if right != -1:\n",
    "            counts[right] += 1\n",
    "    \n",
    "    for i in range(n):\n",
    "        if counts[i] == 0:\n",
    "            return i\n",
    "    \n",
    "    return -1 # 루트 노드가 없는 경우"
   ]
  },
  {
   "cell_type": "code",
   "execution_count": 19,
   "metadata": {},
   "outputs": [
    {
     "data": {
      "text/plain": [
       "9"
      ]
     },
     "execution_count": 19,
     "metadata": {},
     "output_type": "execute_result"
    }
   ],
   "source": [
    "root = search_root_node(links)\n",
    "root"
   ]
  },
  {
   "cell_type": "markdown",
   "metadata": {},
   "source": [
    "### 이분 탐색 (합)  "
   ]
  },
  {
   "cell_type": "code",
   "execution_count": null,
   "metadata": {},
   "outputs": [],
   "source": [
    "root = search_root_node(links)\n",
    "left1 = links[root][0]\n",
    "left2 = links[left1][0]\n",
    "left3 = links[left2][0]\n",
    "\n",
    "target = root\n",
    "\n",
    "left = []\n",
    "right = []\n",
    "\n",
    "while links[0] != -1:\n",
    "    target = links[target[0]]\n",
    "    if target == -1:\n",
    "        while links[1] != -1\n",
    "    left.append(target)\n",
    "\n",
    "while right[0] != -1:\n",
    "    "
   ]
  },
  {
   "cell_type": "code",
   "execution_count": 35,
   "metadata": {},
   "outputs": [],
   "source": [
    "# 전위순회\n",
    "def preorder(links, i, numbers, nodes=[]):\n",
    "    if links[i][0] != -1 :\n",
    "        nodes.append(links[i][0])\n",
    "        print(f'left : {links[i][0]}')\n",
    "        preorder(links, links[i][0], numbers, nodes)\n",
    "    if links[i][1] != -1 :\n",
    "        nodes.append(links[i][1])\n",
    "        print(f'right : {links[i][1]}')\n",
    "        preorder(links, links[i][1], numbers, nodes)\n",
    "    if (links[i][0] == -1) & (links[i][1] == -1):\n",
    "        return nodes"
   ]
  },
  {
   "cell_type": "code",
   "execution_count": 36,
   "metadata": {},
   "outputs": [
    {
     "name": "stdout",
     "output_type": "stream",
     "text": [
      "left : 7\n",
      "left : 6\n",
      "left : 3\n",
      "right : 0\n",
      "right : 1\n",
      "right : 4\n",
      "left : 8\n",
      "left : 11\n",
      "right : 5\n",
      "left : 2\n",
      "right : 10\n"
     ]
    }
   ],
   "source": [
    "left = preorder(links=links, i=9, numbers=num)\n",
    "left"
   ]
  },
  {
   "cell_type": "code",
   "execution_count": 34,
   "metadata": {},
   "outputs": [],
   "source": [
    "left"
   ]
  },
  {
   "cell_type": "code",
   "execution_count": null,
   "metadata": {},
   "outputs": [],
   "source": []
  }
 ],
 "metadata": {
  "kernelspec": {
   "display_name": "base",
   "language": "python",
   "name": "python3"
  },
  "language_info": {
   "codemirror_mode": {
    "name": "ipython",
    "version": 3
   },
   "file_extension": ".py",
   "mimetype": "text/x-python",
   "name": "python",
   "nbconvert_exporter": "python",
   "pygments_lexer": "ipython3",
   "version": "3.10.10"
  }
 },
 "nbformat": 4,
 "nbformat_minor": 2
}
