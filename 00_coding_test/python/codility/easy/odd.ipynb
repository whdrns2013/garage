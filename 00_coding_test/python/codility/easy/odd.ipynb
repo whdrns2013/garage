{
 "cells": [
  {
   "cell_type": "markdown",
   "metadata": {},
   "source": [
    "A non-empty array A consisting of N integers is given. The array contains an odd number of elements, and each element of the array can be paired with another element that has the same value, except for one element that is left unpaired.\n",
    "\n",
    "For example, in array A such that:\n",
    "\n",
    "  A[0] = 9  A[1] = 3  A[2] = 9\n",
    "  A[3] = 3  A[4] = 9  A[5] = 7\n",
    "  A[6] = 9\n",
    "the elements at indexes 0 and 2 have value 9,\n",
    "the elements at indexes 1 and 3 have value 3,\n",
    "the elements at indexes 4 and 6 have value 9,\n",
    "the element at index 5 has value 7 and is unpaired.\n",
    "Write a function:\n",
    "\n",
    "def solution(A)\n",
    "\n",
    "that, given an array A consisting of N integers fulfilling the above conditions, returns the value of the unpaired element.\n",
    "\n",
    "For example, given array A such that:\n",
    "\n",
    "  A[0] = 9  A[1] = 3  A[2] = 9\n",
    "  A[3] = 3  A[4] = 9  A[5] = 7\n",
    "  A[6] = 9\n",
    "the function should return 7, as explained in the example above.\n",
    "\n",
    "Write an efficient algorithm for the following assumptions:\n",
    "\n",
    "N is an odd integer within the range [1..1,000,000];\n",
    "each element of array A is an integer within the range [1..1,000,000,000];\n",
    "all but one of the values in A occur an even number of times.\n",
    "Copyright 2009–2024 by Codility Limited. All Rights Reserved. Unauthorized copying, publication or disclosure prohibited."
   ]
  },
  {
   "cell_type": "code",
   "execution_count": null,
   "metadata": {},
   "outputs": [],
   "source": [
    "# 시도 1 : Score : 100\n",
    "# you can write to stdout for debugging purposes, e.g.\n",
    "# print(\"this is a debug message\")\n",
    "\n",
    "def solution(A):\n",
    "    # 제한사항 확인\n",
    "    # 홀수를 원소로 하는 배열 A. A의 원소 개수는 1 ~ 1,000,000 개 사이.\n",
    "    # 각 원소는 1 ~ 1,000,000,000 사이의 값을 가짐\n",
    "    # 페어를 이루지 못하는 원소의 \"값\"을 반환\n",
    "    \n",
    "    # 평가 기준\n",
    "    # 효율적인 코드를 구축해야 함\n",
    "    \n",
    "    # 알고리즘\n",
    "    # (1) 값 : 개수 dictionary 구축\n",
    "    # (2) 이 중 개수가 홀수인 값을 반환\n",
    "    # 예상 복잡도 : O(2n) + O(unique(n))\n",
    "\n",
    "    pair_dictionary = dict()\n",
    "    for i, num in enumerate(A):\n",
    "        if num in pair_dictionary.keys():\n",
    "            pair_dictionary[num] += 1\n",
    "        else:\n",
    "            pair_dictionary[num] = 1\n",
    "\n",
    "    for key in pair_dictionary.keys():\n",
    "        if int(pair_dictionary[key]) % 2 != 0:\n",
    "            return key"
   ]
  },
  {
   "cell_type": "code",
   "execution_count": null,
   "metadata": {},
   "outputs": [],
   "source": [
    "# 실제 복잡도 : O(N) or O(N*log(N))"
   ]
  },
  {
   "cell_type": "code",
   "execution_count": 4,
   "metadata": {},
   "outputs": [],
   "source": [
    "# 와 근데 더 좋은 방법이 있다고 한다.\n",
    "def solution(A):\n",
    "    result = 0\n",
    "    for num in A:\n",
    "        result ^= num  # XOR 연산\n",
    "    return result"
   ]
  },
  {
   "cell_type": "markdown",
   "metadata": {},
   "source": [
    "개선된 알고리즘: XOR 활용\n",
    "XOR의 성질을 활용하면 배열의 모든 요소를 한 번씩 순회하면서 비효율적인 딕셔너리를 사용하지 않고도 문제를 해결할 수 있습니다. XOR의 주요 성질은 다음과 같습니다:\n",
    "\n",
    "1. A⊕A=0 (같은 값끼리 XOR하면 0이 됨)  \n",
    "2. A⊕0=A (0과 XOR하면 자기 자신이 됨)  \n",
    "3. XOR은 교환법칙과 결합법칙을 만족 (A⊕B⊕A=B)  \n",
    "따라서 배열의 모든 요소를 XOR하면, 짝을 이루는 값들은 모두 소거되고, 홀수로 남아있는 값만 남게 됩니다.\n",
    "\n"
   ]
  },
  {
   "cell_type": "code",
   "execution_count": 5,
   "metadata": {},
   "outputs": [
    {
     "data": {
      "text/plain": [
       "7"
      ]
     },
     "execution_count": 5,
     "metadata": {},
     "output_type": "execute_result"
    }
   ],
   "source": [
    "solution([9, 3, 9, 3, 9, 7, 9])"
   ]
  },
  {
   "cell_type": "code",
   "execution_count": 12,
   "metadata": {},
   "outputs": [
    {
     "name": "stdout",
     "output_type": "stream",
     "text": [
      "9\n",
      "1001\n",
      "\n",
      "+11\n",
      "10\n",
      "1010\n",
      "\n",
      "+1001\n",
      "3\n",
      "11\n",
      "\n",
      "+11\n",
      "0\n",
      "0\n",
      "\n",
      "+1001\n",
      "9\n",
      "1001\n",
      "\n",
      "+111\n",
      "14\n",
      "1110\n",
      "\n",
      "+1001\n",
      "7\n",
      "111\n",
      "\n"
     ]
    },
    {
     "data": {
      "text/plain": [
       "7"
      ]
     },
     "execution_count": 12,
     "metadata": {},
     "output_type": "execute_result"
    }
   ],
   "source": [
    "result = 0\n",
    "result ^=9\n",
    "print(result)\n",
    "print(bin(result)[2:] + '\\n')\n",
    "result ^=3\n",
    "print(f'+{bin(3)[2:]}')\n",
    "print(result)\n",
    "print(bin(result)[2:] + '\\n')\n",
    "result ^=9\n",
    "print(f'+{bin(9)[2:]}')\n",
    "print(result)\n",
    "print(bin(result)[2:] + '\\n')\n",
    "result ^=3\n",
    "print(f'+{bin(3)[2:]}')\n",
    "print(result)\n",
    "print(bin(result)[2:] + '\\n')\n",
    "result ^=9\n",
    "print(f'+{bin(9)[2:]}')\n",
    "print(result)\n",
    "print(bin(result)[2:] + '\\n')\n",
    "result ^=7\n",
    "print(f'+{bin(7)[2:]}')\n",
    "print(result)\n",
    "print(bin(result)[2:] + '\\n')\n",
    "result ^=9\n",
    "print(f'+{bin(9)[2:]}')\n",
    "print(result)\n",
    "print(bin(result)[2:] + '\\n')\n",
    "result"
   ]
  },
  {
   "cell_type": "code",
   "execution_count": null,
   "metadata": {},
   "outputs": [],
   "source": []
  }
 ],
 "metadata": {
  "kernelspec": {
   "display_name": "base",
   "language": "python",
   "name": "python3"
  },
  "language_info": {
   "codemirror_mode": {
    "name": "ipython",
    "version": 3
   },
   "file_extension": ".py",
   "mimetype": "text/x-python",
   "name": "python",
   "nbconvert_exporter": "python",
   "pygments_lexer": "ipython3",
   "version": "3.10.10"
  }
 },
 "nbformat": 4,
 "nbformat_minor": 2
}
