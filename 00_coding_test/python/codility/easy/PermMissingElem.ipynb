{
 "cells": [
  {
   "cell_type": "markdown",
   "metadata": {},
   "source": [
    "An array A consisting of N different integers is given. The array contains integers in the range [1..(N + 1)], which means that exactly one element is missing.\n",
    "\n",
    "Your goal is to find that missing element.\n",
    "\n",
    "Write a function:\n",
    "\n",
    "def solution(A)\n",
    "\n",
    "that, given an array A, returns the value of the missing element.\n",
    "\n",
    "For example, given array A such that:\n",
    "\n",
    "  A[0] = 2\n",
    "  A[1] = 3\n",
    "  A[2] = 1\n",
    "  A[3] = 5\n",
    "the function should return 4, as it is the missing element.\n",
    "\n",
    "Write an efficient algorithm for the following assumptions:\n",
    "\n",
    "N is an integer within the range [0..100,000];\n",
    "the elements of A are all distinct;\n",
    "each element of array A is an integer within the range [1..(N + 1)].\n",
    "Copyright 2009–2024 by Codility Limited. All Rights Reserved. Unauthorized copying, publication or disclosure prohibited."
   ]
  },
  {
   "cell_type": "code",
   "execution_count": null,
   "metadata": {},
   "outputs": [],
   "source": [
    "# 시도 (1) : 60점\n",
    "# correct : 100 점 / performance : 20 점\n",
    "# 복잡도 : O(N**2)\n",
    "\n",
    "def solution(A):\n",
    "    N = len(A) + 1\n",
    "    for i in range(N):\n",
    "        if (i+1) in A:\n",
    "            pass\n",
    "        else:\n",
    "            return (i+1)\n",
    "\n",
    "# 문제 요약\n",
    "# 배열 A : 1 - N+1 까지의 N 개의 서로 다른 자연수로 이루어짐\n",
    "# 배열 A 에는 이중 원소가 하나 빠진 채로 제시됨\n",
    "# 빠진 원소를 찾아 반환하는 게 목표임\n",
    "# N 은 정수이며 0 - 100,000 사이\n",
    "\n",
    "# 추상화\n",
    "# 1 - N+1 의 연속된 자연수 순서 중 빠진 자연수 하나를 찾자.\n",
    "\n",
    "# 구체화\n",
    "# (1) N = len(A) + 1\n",
    "# (2) for 문으로 range(N)을 순회하면서 빠진 것을 찾으면 O(n)\n",
    "\n",
    "# 검토\n",
    "# N = 0 .. 일 수 없다."
   ]
  },
  {
   "cell_type": "code",
   "execution_count": 14,
   "metadata": {},
   "outputs": [
    {
     "data": {
      "text/plain": [
       "'\\n(case1) 124\\n\\nleft = 0 right = 4\\nmid = 2 2 == 2 True left = 3\\nleft = 3 right = 4\\nmid = 3 4 > 3 False right = 2\\nleft > right\\nreturn 3\\n\\n(case2) 1345678\\n\\nleft = 0 right = 8\\nmid = 4 5 > 4 False right = 3\\nleft = 0 right = 3\\nmid = 1 1 == 1 True left = 1\\nleft = 1 right = 3\\nmid = 2 3 > 2 False right = 1\\nleft == right\\nreturn 2\\n\\n'"
      ]
     },
     "execution_count": 14,
     "metadata": {},
     "output_type": "execute_result"
    }
   ],
   "source": [
    "# 시도 (2) : 50점\n",
    "# correctness : 20 / performance : 80\n",
    "# 이분탐색을 이용해봤다.  \n",
    "# 복잡도 : O(NlogN)\n",
    "\n",
    "def solution(A):\n",
    "    A.sort()\n",
    "    left = 0\n",
    "    right = len(A) + 1\n",
    "    while left < right:\n",
    "        mid = (left + right) // 2\n",
    "        if A[mid-1] == (mid):\n",
    "            left = mid+1\n",
    "        elif A[mid-1] > (mid):\n",
    "            right = mid\n",
    "    return left\n",
    "\n",
    "\n",
    "\n",
    "# 이하 검증\n",
    "\n",
    "'''\n",
    "(case1) 124\n",
    "\n",
    "left = 0 right = 4\n",
    "mid = 2 2 == 2 True left = 3\n",
    "left = 3 right = 4\n",
    "mid = 3 4 > 3 False right = 3\n",
    "left == right\n",
    "return 3\n",
    "\n",
    "(case2) 1345678\n",
    "\n",
    "left = 0 right = 8\n",
    "mid = 4 5 > 4 False right = 4\n",
    "left = 0 right = 4\n",
    "mid = 2 3 > 2 False right = 2\n",
    "left = 0 right = 2\n",
    "mid = 1 1 == 1 True left = 2\n",
    "left == right\n",
    "return 2\n",
    "\n",
    "(case3) 12356\n",
    "left = 0 right = 6\n",
    "mid = 3 3 == 3 True left = 4\n",
    "left = 4 right = 6\n",
    "mid = 5 6 > 5 False right = 5\n",
    "left = 4 right = 5\n",
    "mid = 4 5 > 4 False right = 4\n",
    "left == right\n",
    "return 4\n",
    "'''"
   ]
  },
  {
   "cell_type": "code",
   "execution_count": null,
   "metadata": {},
   "outputs": [],
   "source": [
    "# 시도3\n",
    "# 문제 자체를 잘못 이해했다. N = 0일 수가 있다.\n",
    "# N 개의 원소를 가지는 [1, 2, 3, ... N+1] 배열 A 에 대해서 연속된 수 중 빠진 수를 구하여라이다.\n",
    "# 근데 NlogN 의 복잡도이므로 효율성 측면에서 안좋은 점수가 나올 것이다.\n",
    "def solution(A):\n",
    "    some_dict = dict()\n",
    "    for num in A:\n",
    "        some_dict[num] : 1\n",
    "    for i in range(1,N+1):\n",
    "        if i in some_dict.keys():\n",
    "            pass\n",
    "        else:\n",
    "            return i"
   ]
  },
  {
   "cell_type": "code",
   "execution_count": null,
   "metadata": {},
   "outputs": [],
   "source": [
    "# 시도4 : 100점\n",
    "# 덧셈을 이용하는 방법\n",
    "def solution(A):\n",
    "    N = len(A)\n",
    "    return int(((1+N+1)/2)*(N+1) - sum(A))"
   ]
  },
  {
   "cell_type": "code",
   "execution_count": 20,
   "metadata": {},
   "outputs": [
    {
     "data": {
      "text/plain": [
       "[1, 2, 3, 4, 5, 6]"
      ]
     },
     "execution_count": 20,
     "metadata": {},
     "output_type": "execute_result"
    }
   ],
   "source": [
    "# 리스트 정렬 a.sort\n",
    "a = [4, 5, 6, 1, 2, 3]\n",
    "a.sort()\n",
    "a\n",
    "\n",
    "# 시간 복잡도는\n",
    "# (1) 평균적인 경우, 최악의 경우 : O(NlogN) - 모든 경우에 대해 리스트를 병합하는 과정이 포함됨\n",
    "# (2) 최선의 경우 : O(N) - 리스트가 이미 정렬되어 있거나 거의 정렬된 경우\n",
    "# 따라서 웬만하면 사용하지 않는 게 좋을 듯"
   ]
  },
  {
   "cell_type": "code",
   "execution_count": null,
   "metadata": {},
   "outputs": [],
   "source": [
    "# 이런 구성의 시간 복잡도\n",
    "def solution(A):\n",
    "    some_dict = dict()\n",
    "    for num in A:\n",
    "        some_dict[num] : 1\n",
    "    for i in range(1,N+1): # N 번 반복하면서\n",
    "        if i in some_dict.keys(): # N 번 비교하므로 시간복잡도 = O(N**@)\n",
    "            pass\n",
    "        else:\n",
    "            return i"
   ]
  },
  {
   "cell_type": "code",
   "execution_count": null,
   "metadata": {},
   "outputs": [],
   "source": [
    "# 연속된 자연수의 합\n",
    "# 연속된 자연수 N, N+1, N+2 ... N+K 의 합은\n",
    "# ((N + N + K) / 2) * (K+1)\n",
    "((1 + 6) /2) * (6)\n",
    "((1 + 7) /2) * (7)"
   ]
  },
  {
   "cell_type": "code",
   "execution_count": 29,
   "metadata": {},
   "outputs": [
    {
     "data": {
      "text/plain": [
       "15"
      ]
     },
     "execution_count": 29,
     "metadata": {},
     "output_type": "execute_result"
    }
   ],
   "source": [
    "# 리스트의 합\n",
    "a = [1, 2, 3, 4, 5]\n",
    "sum(a)"
   ]
  },
  {
   "cell_type": "code",
   "execution_count": null,
   "metadata": {},
   "outputs": [],
   "source": []
  }
 ],
 "metadata": {
  "kernelspec": {
   "display_name": "base",
   "language": "python",
   "name": "python3"
  },
  "language_info": {
   "codemirror_mode": {
    "name": "ipython",
    "version": 3
   },
   "file_extension": ".py",
   "mimetype": "text/x-python",
   "name": "python",
   "nbconvert_exporter": "python",
   "pygments_lexer": "ipython3",
   "version": "3.10.10"
  }
 },
 "nbformat": 4,
 "nbformat_minor": 2
}
