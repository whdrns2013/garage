{
 "cells": [
  {
   "cell_type": "markdown",
   "metadata": {},
   "source": [
    "## 문제  \n",
    "\n",
    "A binary gap within a positive integer N is any maximal sequence of consecutive zeros that is surrounded by ones at both ends in the binary representation of N.\n",
    "\n",
    "For example, number 9 has binary representation 1001 and contains a binary gap of length 2. The number 529 has binary representation 1000010001 and contains two binary gaps: one of length 4 and one of length 3. The number 20 has binary representation 10100 and contains one binary gap of length 1. The number 15 has binary representation 1111 and has no binary gaps. The number 32 has binary representation 100000 and has no binary gaps.\n",
    "\n",
    "Write a function:\n",
    "\n",
    "def solution(N)\n",
    "\n",
    "that, given a positive integer N, returns the length of its longest binary gap. The function should return 0 if N doesn't contain a binary gap.\n",
    "\n",
    "For example, given N = 1041 the function should return 5, because N has binary representation 10000010001 and so its longest binary gap is of length 5. Given N = 32 the function should return 0, because N has binary representation '100000' and thus no binary gaps.\n",
    "\n",
    "Write an efficient algorithm for the following assumptions:\n",
    "\n",
    "N is an integer within the range [1..2,147,483,647].\n",
    "Copyright 2009–2024 by Codility Limited. All Rights Reserved. Unauthorized copying, publication or disclosure prohibited."
   ]
  },
  {
   "cell_type": "code",
   "execution_count": null,
   "metadata": {},
   "outputs": [],
   "source": [
    "# (1) 직접 풀이이\n",
    "# you can write to stdout for debugging purposes, e.g.\n",
    "# print(\"this is a debug message\")\n",
    "\n",
    "def make_binary(N): # make binary\n",
    "    import copy\n",
    "    binary = ''\n",
    "    count = 0\n",
    "    N_copied = copy.deepcopy(N)\n",
    "    while N_copied > 2:\n",
    "        N_copied = N_copied / 2\n",
    "        count += 1\n",
    "    for i in range(1, count+2):\n",
    "        dividor = 2**(count + 1- i) # 제곱! power!\n",
    "        remain = N / dividor\n",
    "        if remain >= 1:\n",
    "            binary += '1'\n",
    "            N = N % dividor\n",
    "        else:\n",
    "            binary += '0'\n",
    "    return binary\n",
    "\n",
    "def divide_binary(binary):\n",
    "    zeros_list = binary.split('1')\n",
    "    if binary[-1] != '1':\n",
    "        zeros_list.pop(len(zeros_list) - 1) # pop! remove component of list using idx, it's pop!\n",
    "    return zeros_list\n",
    "\n",
    "def solution(N):\n",
    "    # Implement your solution here\n",
    "    # (1) make number to binary\n",
    "    binary = make_binary(N)\n",
    "    binary_list = divide_binary(binary)\n",
    "    answer_list = [len(x) for x in binary_list]\n",
    "    return max(answer_list)\n"
   ]
  },
  {
   "cell_type": "code",
   "execution_count": null,
   "metadata": {},
   "outputs": [],
   "source": [
    "# (2) 와 이진수 변환해주는 내장함수가 이써..\n",
    "bin(100)\n",
    "\n",
    "def divide_binary(binary):\n",
    "    zeros_list = binary.split('1')\n",
    "    if binary[-1] != '1':\n",
    "        zeros_list.pop(len(zeros_list) - 1) # pop! remove component of list using idx, it's pop!\n",
    "    return zeros_list\n",
    "\n",
    "def solution(N):\n",
    "    # Implement your solution here\n",
    "    # (1) make number to binary\n",
    "    binary = bin(N)[2:]\n",
    "    binary_list = divide_binary(binary)\n",
    "    answer_list = [len(x) for x in binary_list]\n",
    "    return max(answer_list)"
   ]
  },
  {
   "cell_type": "code",
   "execution_count": 53,
   "metadata": {},
   "outputs": [
    {
     "data": {
      "text/plain": [
       "'1100100'"
      ]
     },
     "execution_count": 53,
     "metadata": {},
     "output_type": "execute_result"
    }
   ],
   "source": [
    "# (3) 제목이 bitwise여서 비트를 이용해보기로 함\n",
    "# 비트 연산은 << (왼쪽으로 1비트 이동하고 비트를 1로 채워놓음) == *2\n",
    "# >> (오른쪽으로 1비트 이동함. 사라지는 비트가 1이어도 상관치 않음) == //2\n",
    "def make_binary(N):\n",
    "    binary = ''\n",
    "    while N > 0:\n",
    "        binary = str(N & 1) + binary # 이렇게 더하면 된다! 변수를 뒤에 더해도 돼\n",
    "        N = N >> 1 # 이진수 이동\n",
    "    return binary\n",
    "\n",
    "def divide_binary(binary):\n",
    "    zeros_list = binary.split('1')\n",
    "    if binary[-1] != '1':\n",
    "        zeros_list.pop(len(zeros_list) - 1) # pop! remove component of list using idx, it's pop!\n",
    "    return zeros_list\n",
    "\n",
    "def solution(N):\n",
    "    # Implement your solution here\n",
    "    # (1) make number to binary\n",
    "    binary = bin(N)[2:]\n",
    "    binary_list = divide_binary(binary)\n",
    "    answer_list = [len(x) for x in binary_list]\n",
    "    return max(answer_list)"
   ]
  },
  {
   "cell_type": "code",
   "execution_count": 55,
   "metadata": {},
   "outputs": [
    {
     "name": "stdout",
     "output_type": "stream",
     "text": [
      "101 0b1100101\n",
      "202 0b11001010\n",
      "50 0b110010\n",
      "\n",
      "===============\n",
      "\n",
      "111100\n",
      "000001\n",
      "0\n",
      "\n",
      "===============\n",
      "\n",
      "111101\n",
      "000001\n",
      "1\n",
      "\n",
      "===============\n",
      "\n",
      "100010\n",
      "100011\n",
      "34\n"
     ]
    }
   ],
   "source": [
    "# 비트연산 예시\n",
    "\n",
    "a = 101\n",
    "b = 101 << 1\n",
    "c = 101 >> 1\n",
    "\n",
    "print(a, bin(a))\n",
    "print(b, bin(b))\n",
    "print(c, bin(c))\n",
    "\n",
    "print('\\n===============\\n')\n",
    "\n",
    "# & : 두 비트가 모두 1인 자리수의 이진수를 모두 더하여 반환\n",
    "num = 60\n",
    "print(bin(num)[2:])\n",
    "one = 1\n",
    "print(f'00000{bin(one)[2:]}')\n",
    "print(num & one)\n",
    "\n",
    "print('\\n===============\\n')\n",
    "\n",
    "num = 61\n",
    "print(bin(num)[2:])\n",
    "one = 1\n",
    "print(f'00000{bin(one)[2:]}')\n",
    "print(num & one)\n",
    "\n",
    "print('\\n===============\\n')\n",
    "\n",
    "num = 34\n",
    "print(bin(num)[2:])\n",
    "one = 35\n",
    "print(bin(one)[2:])\n",
    "print(num & one)"
   ]
  },
  {
   "cell_type": "code",
   "execution_count": null,
   "metadata": {},
   "outputs": [],
   "source": []
  }
 ],
 "metadata": {
  "kernelspec": {
   "display_name": "univ_rec",
   "language": "python",
   "name": "python3"
  },
  "language_info": {
   "codemirror_mode": {
    "name": "ipython",
    "version": 3
   },
   "file_extension": ".py",
   "mimetype": "text/x-python",
   "name": "python",
   "nbconvert_exporter": "python",
   "pygments_lexer": "ipython3",
   "version": "3.11.0"
  }
 },
 "nbformat": 4,
 "nbformat_minor": 2
}
