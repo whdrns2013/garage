{
 "cells": [
  {
   "cell_type": "markdown",
   "metadata": {},
   "source": [
    "A small frog wants to get to the other side of a river. The frog is initially located on one bank of the river (position 0) and wants to get to the opposite bank (position X+1). Leaves fall from a tree onto the surface of the river.\n",
    "\n",
    "You are given an array A consisting of N integers representing the falling leaves. A[K] represents the position where one leaf falls at time K, measured in seconds.\n",
    "\n",
    "The goal is to find the earliest time when the frog can jump to the other side of the river. The frog can cross only when leaves appear at every position across the river from 1 to X (that is, we want to find the earliest moment when all the positions from 1 to X are covered by leaves). You may assume that the speed of the current in the river is negligibly small, i.e. the leaves do not change their positions once they fall in the river.\n",
    "\n",
    "For example, you are given integer X = 5 and array A such that:\n",
    "\n",
    "  A[0] = 1\n",
    "  A[1] = 3\n",
    "  A[2] = 1\n",
    "  A[3] = 4\n",
    "  A[4] = 2\n",
    "  A[5] = 3\n",
    "  A[6] = 5\n",
    "  A[7] = 4\n",
    "In second 6, a leaf falls into position 5. This is the earliest time when leaves appear in every position across the river.\n",
    "\n",
    "Write a function:\n",
    "\n",
    "def solution(X, A)\n",
    "\n",
    "that, given a non-empty array A consisting of N integers and integer X, returns the earliest time when the frog can jump to the other side of the river.\n",
    "\n",
    "If the frog is never able to jump to the other side of the river, the function should return −1.\n",
    "\n",
    "For example, given X = 5 and array A such that:\n",
    "\n",
    "  A[0] = 1\n",
    "  A[1] = 3\n",
    "  A[2] = 1\n",
    "  A[3] = 4\n",
    "  A[4] = 2\n",
    "  A[5] = 3\n",
    "  A[6] = 5\n",
    "  A[7] = 4\n",
    "the function should return 6, as explained above.\n",
    "\n",
    "Write an efficient algorithm for the following assumptions:\n",
    "\n",
    "N and X are integers within the range [1..100,000];\n",
    "each element of array A is an integer within the range [1..X].\n",
    "Copyright 2009–2024 by Codility Limited. All Rights Reserved. Unauthorized copying, publication or disclosure prohibited."
   ]
  },
  {
   "cell_type": "code",
   "execution_count": null,
   "metadata": {},
   "outputs": [],
   "source": [
    "# 시도 1 : 100점\n",
    "# 복잡도 : O(N)\n",
    "# 이분탐색과 set, length 비교를 통한 방법\n",
    "# 예상 복잡도는.. 슬라이싱 떄문에 O(N * logN) 이었는데.. 왜지?\n",
    "def solution(X, A):\n",
    "    left = 0\n",
    "    right = len(A)\n",
    "    result = -1\n",
    "    while left < right:\n",
    "        mid = (left + right) // 2\n",
    "        length = len(set(A[:mid+1]))\n",
    "        if length < X:\n",
    "            left = mid + 1\n",
    "        elif length == X:\n",
    "            result = mid\n",
    "            right = mid\n",
    "    return result\n",
    "\n",
    "# A : 떨어진 나뭇잎 위치를 담은 배열\n",
    "# A[K] : K 초에 떨어진 나뭇잎 위치\n",
    "# X : 반대편으로 가기 직전 나뭇잎 위치\n",
    "# 모든 나뭇잎이 강의 모든 위치에 있어야 개구리가 강을 건널 수 있을 것이라고 판단함\n",
    "# 반환 : 개구리가 건널 수 있을 것으로 판단하는 최소의 시간\n",
    "# A 는 비어있지 않음, 원소의 개수는 1 이상 100,000 이하\n",
    "# A 원소값의 범위는 1 - X 사이의 정수 (1, X 포함)\n",
    "\n",
    "# 접근 방법\n",
    "# (1) for문으로 순환하면서 dict에 count를 쌓고, 모든 dict의 value 가 1 이상이 되는지 체크 - 최대 O(n**2) 예상\n",
    "# (2) for 문으로 순환하면서 set(list) 를 한 뒤, 개수 비교 - 최대 O(1) * O(n) = O(n)\n",
    "# (3) 이분탐색 + set(list) : 2번보다 빠른 속도 예상됨"
   ]
  },
  {
   "cell_type": "code",
   "execution_count": null,
   "metadata": {},
   "outputs": [],
   "source": [
    "# set 함수\n",
    "# set 함수의 시간 복잡도는 O(1)"
   ]
  },
  {
   "cell_type": "code",
   "execution_count": null,
   "metadata": {},
   "outputs": [],
   "source": [
    "# 슬라이싱 시간복잡도\n",
    "# A[:n] 일 때 시간복잡도는 O(n)\n",
    "a = [1, 2, 3, 4, 5]\n",
    "a = a[3]"
   ]
  },
  {
   "cell_type": "code",
   "execution_count": null,
   "metadata": {},
   "outputs": [],
   "source": [
    "# 이분탐색의 시간복잡도\n",
    "# 이분탐색의 시간복잡도는 O(logN)"
   ]
  }
 ],
 "metadata": {
  "kernelspec": {
   "display_name": "base",
   "language": "python",
   "name": "python3"
  },
  "language_info": {
   "codemirror_mode": {
    "name": "ipython",
    "version": 3
   },
   "file_extension": ".py",
   "mimetype": "text/x-python",
   "name": "python",
   "nbconvert_exporter": "python",
   "pygments_lexer": "ipython3",
   "version": "3.10.10"
  }
 },
 "nbformat": 4,
 "nbformat_minor": 2
}
