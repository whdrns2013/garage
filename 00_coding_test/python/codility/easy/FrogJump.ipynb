{
 "cells": [
  {
   "cell_type": "markdown",
   "metadata": {},
   "source": [
    "A small frog wants to get to the other side of the road. The frog is currently located at position X and wants to get to a position greater than or equal to Y. The small frog always jumps a fixed distance, D.\n",
    "\n",
    "Count the minimal number of jumps that the small frog must perform to reach its target.\n",
    "\n",
    "Write a function:\n",
    "\n",
    "def solution(X, Y, D)\n",
    "\n",
    "that, given three integers X, Y and D, returns the minimal number of jumps from position X to a position equal to or greater than Y.\n",
    "\n",
    "For example, given:\n",
    "\n",
    "  X = 10\n",
    "  Y = 85\n",
    "  D = 30\n",
    "the function should return 3, because the frog will be positioned as follows:\n",
    "\n",
    "after the first jump, at position 10 + 30 = 40\n",
    "after the second jump, at position 10 + 30 + 30 = 70\n",
    "after the third jump, at position 10 + 30 + 30 + 30 = 100\n",
    "Write an efficient algorithm for the following assumptions:\n",
    "\n",
    "X, Y and D are integers within the range [1..1,000,000,000];\n",
    "X ≤ Y.\n"
   ]
  },
  {
   "cell_type": "code",
   "execution_count": null,
   "metadata": {},
   "outputs": [],
   "source": [
    "# (1) 첫 번째 시도 : 44점\n",
    "# correct 테스트에서 틀림. correctness 에서 문제가 있었음. 오마이갓. remain 에 // 가 아닌 % 를 써야 하는데..\n",
    "def solution(X, Y, D):\n",
    "    remain = (Y - X) // D\n",
    "    if remain > 0:\n",
    "        return int((Y-X)//D + 1)\n",
    "    else:\n",
    "        return int((Y-X)//D)\n",
    "\n",
    "# 일차적인 직선이 있고, 0부터 시작해 길이를 나타낸다.\n",
    "# 개구리는 X에 위치해있고, Y이상값이 되고자 한다.\n",
    "# 개구리는 항상 D 만큼 점프한다.\n",
    "# 최소 몇 번의 점프를 해야 Y 이상에 도달할 수 있는지 반환하라.\n",
    "# X, Y, D 는 1 - 1,000,000,000 사이의 수\n",
    "# Y 는 항상 X 보다 크다."
   ]
  },
  {
   "cell_type": "code",
   "execution_count": null,
   "metadata": {},
   "outputs": [],
   "source": [
    "# (2) 두 번째 시도 : 100점\n",
    "# 시간복잡도 : O(1)\n",
    "\n",
    "def solution(X, Y, D):\n",
    "    remain = (Y - X) % D\n",
    "    if remain > 0:\n",
    "        return int((Y-X)//D + 1)\n",
    "    else:\n",
    "        return int((Y-X)//D)\n"
   ]
  },
  {
   "cell_type": "code",
   "execution_count": 8,
   "metadata": {},
   "outputs": [
    {
     "data": {
      "text/plain": [
       "11"
      ]
     },
     "execution_count": 8,
     "metadata": {},
     "output_type": "execute_result"
    }
   ],
   "source": [
    "# (1) 반올림 round 함수 -> round 는 반올림이다. 따라서 .1 이 1이 증가되어야 함에도 불구하고 내림처리가 된다.\n",
    "a = 11.1\n",
    "round(a)"
   ]
  },
  {
   "cell_type": "code",
   "execution_count": null,
   "metadata": {},
   "outputs": [
    {
     "name": "stdout",
     "output_type": "stream",
     "text": [
      "1.0\n",
      "1.0999999999999996\n",
      "1.1099999999999999\n",
      "3\n",
      "1\n",
      "3.3333333333333335\n"
     ]
    }
   ],
   "source": [
    "# (2) / 와 // 와 % 는 나누는 값의 자료형에 따르며, 반환값이 float인 경우는 나누는 값이 int 여도 float을 반환한다.\n",
    "a = 11.1\n",
    "print(a // 10)\n",
    "print(a % 10)\n",
    "print(a / 10)\n",
    "\n",
    "b = 10\n",
    "print(b // 3)\n",
    "print(b % 3)\n",
    "print( b / 3)"
   ]
  }
 ],
 "metadata": {
  "kernelspec": {
   "display_name": "base",
   "language": "python",
   "name": "python3"
  },
  "language_info": {
   "codemirror_mode": {
    "name": "ipython",
    "version": 3
   },
   "file_extension": ".py",
   "mimetype": "text/x-python",
   "name": "python",
   "nbconvert_exporter": "python",
   "pygments_lexer": "ipython3",
   "version": "3.10.10"
  }
 },
 "nbformat": 4,
 "nbformat_minor": 2
}
