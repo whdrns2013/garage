{
 "cells": [
  {
   "cell_type": "markdown",
   "metadata": {},
   "source": [
    "A non-empty array A consisting of N integers is given. Array A represents numbers on a tape.\n",
    "\n",
    "Any integer P, such that 0 < P < N, splits this tape into two non-empty parts: A[0], A[1], ..., A[P − 1] and A[P], A[P + 1], ..., A[N − 1].\n",
    "\n",
    "The difference between the two parts is the value of: |(A[0] + A[1] + ... + A[P − 1]) − (A[P] + A[P + 1] + ... + A[N − 1])|\n",
    "\n",
    "In other words, it is the absolute difference between the sum of the first part and the sum of the second part.\n",
    "\n",
    "For example, consider array A such that:\n",
    "\n",
    "  A[0] = 3\n",
    "  A[1] = 1\n",
    "  A[2] = 2\n",
    "  A[3] = 4\n",
    "  A[4] = 3\n",
    "We can split this tape in four places:\n",
    "\n",
    "P = 1, difference = |3 − 10| = 7\n",
    "P = 2, difference = |4 − 9| = 5\n",
    "P = 3, difference = |6 − 7| = 1\n",
    "P = 4, difference = |10 − 3| = 7\n",
    "Write a function:\n",
    "\n",
    "class Solution { public int solution(int[] A); }\n",
    "\n",
    "that, given a non-empty array A of N integers, returns the minimal difference that can be achieved.\n",
    "\n",
    "For example, given:\n",
    "\n",
    "  A[0] = 3\n",
    "  A[1] = 1\n",
    "  A[2] = 2\n",
    "  A[3] = 4\n",
    "  A[4] = 3\n",
    "the function should return 1, as explained above.\n",
    "\n",
    "Write an efficient algorithm for the following assumptions:\n",
    "\n",
    "N is an integer within the range [2..100,000];\n",
    "each element of array A is an integer within the range [−1,000..1,000].\n",
    "Copyright 2009–2024 by Codility Limited. All Rights Reserved. Unauthorized copying, publication or disclosure prohibited."
   ]
  },
  {
   "cell_type": "code",
   "execution_count": null,
   "metadata": {},
   "outputs": [],
   "source": [
    "# 시도1 : 30점\n",
    "# correct : 28 / performance : 33\n",
    "def solution(A):\n",
    "    left = 0\n",
    "    right = len(A)\n",
    "    mid = 0\n",
    "    diff = 0\n",
    "    while left < right:\n",
    "        mid = (left + right) // 2\n",
    "        diff = sum(A[:mid]) - sum(A[mid:])\n",
    "        if diff < 0:\n",
    "            left = mid + 1\n",
    "        elif diff > 0:\n",
    "            right = mid\n",
    "        else:\n",
    "            return 0\n",
    "    return abs(sum(A[:mid]) - sum(A[mid:]))\n",
    "\n",
    "# 배열 A 는 비어있지 않다.\n",
    "# 배열 A 는 N 개의 정수로 이루어져 있다.\n",
    "# 어쩐 정수 P 를 기준으로 테이프를 나눌 수 있다.  0:(P-1) / P:N\n",
    "# 두 파트의 차이는 sum(A[0:(P-1)]) - sum(A[P:]) 의 절대값!\n",
    "# 배열 A 에 대해서 최소의 차이를 반환하라.\n",
    "# 이분탐색으로 해볼까\n",
    "# 절대값\n",
    "\n",
    "# 검산\n",
    "# 3, 1, 2, 4, 3\n",
    "\n",
    "# left = 0\n",
    "# right = 5\n",
    "# mid = 2\n",
    "# diff = 4 - 9\n",
    "# --> left = 3\n",
    "\n",
    "# left = 3\n",
    "# right = 5\n",
    "# mid = 4\n",
    "# diff = 10 - 3\n",
    "# --> right = 4\n",
    "\n",
    "# left = 3\n",
    "# right = 4\n",
    "# mid = 3\n",
    "# diff = 6 - 7\n",
    "# --> left = 4\n",
    "\n",
    "# left == right\n",
    "# P = 3 (mid)\n",
    "\n"
   ]
  },
  {
   "cell_type": "code",
   "execution_count": null,
   "metadata": {},
   "outputs": [
    {
     "data": {
      "text/plain": [
       "2"
      ]
     },
     "execution_count": 13,
     "metadata": {},
     "output_type": "execute_result"
    }
   ],
   "source": [
    "# 시도 2 : 38점\n",
    "# correct : 71 / performance : 0\n",
    "# 복잡도 : O(n**2) sum 함수에서 시간을 잡아먹으므로!\n",
    "# (1) 점점 작은 값으로 수렴해야 하는구나..\n",
    "# (2) 합에 양수만 있다면 단순한 이분탐색으로 가능하겠지만, 음수가 있는 순간 문제가 됨\n",
    "# (3) 이분탐색이 아닌 log(N) 을 노린다.\n",
    "# [-5, 5, -5, 6, 5, 4]\n",
    "# [4, 5, 6, -5, 5, -5]\n",
    "def solution(A):\n",
    "    N = len(A)\n",
    "    min_diff = float('inf')\n",
    "    for i in range(1, N+1):\n",
    "        min_diff = min(min_diff, abs(sum(A[:i]) - sum(A[i:])))\n",
    "    return min_diff\n",
    "\n",
    "\n"
   ]
  },
  {
   "cell_type": "code",
   "execution_count": null,
   "metadata": {},
   "outputs": [],
   "source": [
    "# 시도 3 : 84점\n",
    "# correct : 71 / perfom : 100\n",
    "# log(N) 은 나쁘지 않은 복잡도이다.\n",
    "# 뭐가 틀린거지?\n",
    "def solution(A):\n",
    "    N = len(A)\n",
    "    min_diff = float('inf')\n",
    "    total_sum = sum(A)\n",
    "    left_sum = A[0]\n",
    "    min_diff = abs(left_sum - (total_sum - left_sum))\n",
    "    for i in range(1, N-1):\n",
    "        left_sum += A[i]\n",
    "        min_diff = min(min_diff, abs(left_sum - (total_sum - left_sum)))\n",
    "    return min_diff"
   ]
  },
  {
   "cell_type": "code",
   "execution_count": null,
   "metadata": {},
   "outputs": [],
   "source": [
    "# 시도 4 : 100점\n",
    "def solution(A):\n",
    "    N = len(A)\n",
    "    total_sum = sum(A)\n",
    "    left_sum = A[0]\n",
    "    min_diff = abs(left_sum - (total_sum - left_sum))\n",
    "    for i in range(1, N-1):\n",
    "        left_sum += A[i]\n",
    "        min_diff = min(min_diff, abs(left_sum - (total_sum - left_sum)))\n",
    "    return min_diff"
   ]
  },
  {
   "cell_type": "code",
   "execution_count": null,
   "metadata": {},
   "outputs": [
    {
     "data": {
      "text/plain": [
       "[1, 2, 3, 4]"
      ]
     },
     "execution_count": 8,
     "metadata": {},
     "output_type": "execute_result"
    }
   ],
   "source": [
    "# 리스트 인덱스 개수를 넘어서도 슬라이싱 가능\n",
    "a = [1, 2, 3, 4]\n",
    "a [:6]"
   ]
  },
  {
   "cell_type": "code",
   "execution_count": 10,
   "metadata": {},
   "outputs": [
    {
     "data": {
      "text/plain": [
       "inf"
      ]
     },
     "execution_count": 10,
     "metadata": {},
     "output_type": "execute_result"
    }
   ],
   "source": [
    "# 무한을 뜻하는 수 만들기\n",
    "a = float('inf')\n",
    "a"
   ]
  },
  {
   "cell_type": "code",
   "execution_count": null,
   "metadata": {},
   "outputs": [
    {
     "data": {
      "text/plain": [
       "[]"
      ]
     },
     "execution_count": 15,
     "metadata": {},
     "output_type": "execute_result"
    }
   ],
   "source": [
    "# range 의 시작과 끝이 같다면\n",
    "list(range(1, 1))"
   ]
  },
  {
   "cell_type": "code",
   "execution_count": null,
   "metadata": {},
   "outputs": [],
   "source": []
  }
 ],
 "metadata": {
  "kernelspec": {
   "display_name": "base",
   "language": "python",
   "name": "python3"
  },
  "language_info": {
   "codemirror_mode": {
    "name": "ipython",
    "version": 3
   },
   "file_extension": ".py",
   "mimetype": "text/x-python",
   "name": "python",
   "nbconvert_exporter": "python",
   "pygments_lexer": "ipython3",
   "version": "3.10.10"
  }
 },
 "nbformat": 4,
 "nbformat_minor": 2
}
