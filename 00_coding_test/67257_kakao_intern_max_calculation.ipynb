{
 "cells": [
  {
   "cell_type": "code",
   "execution_count": null,
   "metadata": {},
   "outputs": [],
   "source": [
    "exp1 = \"100-200*300-500+20\"\n",
    "exp2 = \"50*6-3*2\"\n",
    "clas = {'+', '-', '*'}\n",
    "\n",
    "# 문제 이해하기\n",
    "# 목표 : 수식에 포함된 연산자의 우선순위를 자유롭게 재정의해 만들 수 있는 가장 큰 수 만들기\n",
    "# 조건 (1) 연산자는 세 가지 +, -, *\n",
    "# 조건 (2) 하나의 식에 같은 우선순위의 연산자는 있을 수 없음 (n!) 동일한 연산자가 식에 두 번 이상 출현할 수 있음\n",
    "# 조건 (3) 수식의 길이는 3 이상 100 이하\n",
    "# 조건 (4) 수식은 적어도 하나의 연산자를 포함하고 있음\n",
    "# 조건 (5) 수식은 중위표기법으로 표현됨\n",
    "\n",
    "# 추상화 하기\n",
    "# 목표 : 가장 큰 계산값을 가지는 수식의 계산 순서를 정의하기\n",
    "\n",
    "# 구체화 하기\n",
    "# (안1) 식에서 피연산자와 연산자를 추출하여 각각의 리스트에 담기\n",
    "# (안2) 식에서 피연산자-연산자-피연산자 쌍들을 모두 추출하여 리스트에 담기\n",
    "# (안3) 후위연산식으로 바꿔 큐에 넣고, 우선순위에 따라 계산하는 방식\n",
    "\n",
    "# 안3 . 후위연산식으로 변경\n",
    "# (1) 순열 조합(?) 을 생성할 수 있어야 함 - 연산자 우선순위 만들기\n",
    "# (2) 후위연산용 stack 구성\n",
    "\n",
    "\n",
    "def convert_to_list(expression):\n",
    "    import re\n",
    "    converted = (re.split(r'([*+\\-/])', expression.replace(' ', ''))) # 정규표현식\n",
    "    number_list = []\n",
    "    operator_list = []\n",
    "    for comp in converted:\n",
    "        try:\n",
    "            number_list.append(int(comp))\n",
    "        except:\n",
    "            operator_list.append(comp)\n",
    "    return number_list, operator_list\n",
    "        \n",
    "\n",
    "def make_priority_list(expression_list):\n",
    "    return list(set([x for x in expression_list if x in ['+', '-', '*']]))\n",
    "\n",
    "def make_permutations(origin_list, num):\n",
    "    import copy\n",
    "    result = []\n",
    "    def permute(temp, remain_list):\n",
    "        if len(temp) == num:\n",
    "            result.append(temp[:]) # 이렇게 접근하는 게 깊은복사보다 더 빠름\n",
    "        for i, comp in enumerate(remain_list):\n",
    "            picked_comp = remain_list[i]\n",
    "            permute(temp + [picked_comp], remain_list[:i] + remain_list[i+1:])\n",
    "    permute([], origin_list)\n",
    "    return result\n",
    "\n",
    "def calc(comp1, comp2, operator):\n",
    "    comp1 = int(comp1)\n",
    "    comp2 = int(comp2)\n",
    "    if operator == '+':\n",
    "        return comp1 + comp2\n",
    "    elif operator == '-':\n",
    "        return comp1 - comp2\n",
    "    elif operator == '*':\n",
    "        return comp1 * comp2\n",
    "\n",
    "def calc_expression(number_list, operator_list, priority_operator_set):\n",
    "    for priority_operator in priority_operator_set:\n",
    "        temp_number_list = []\n",
    "        temp_operator_list = []\n",
    "        for i, operator in enumerate(operator_list):\n",
    "            if i == 0:\n",
    "                if priority_operator == operator:\n",
    "                    addition = calc(number_list[i], number_list[i+1], operator)\n",
    "                    temp_number_list.append(addition)\n",
    "                else:\n",
    "                    temp_number_list.extend([number_list[i], number_list[i+1]])\n",
    "                    temp_operator_list.append(operator)\n",
    "            else:\n",
    "                if priority_operator == operator:\n",
    "                    addition = calc(temp_number_list.pop(), number_list[i+1], operator)\n",
    "                    temp_number_list.append(addition)\n",
    "                else:\n",
    "                    temp_number_list.extend([number_list[i+1]])\n",
    "                    temp_operator_list.append(operator)\n",
    "        number_list = temp_number_list\n",
    "        operator_list = temp_operator_list\n",
    "        if len(number_list) == 1:\n",
    "            return number_list[0]\n",
    "    \n",
    "def solution(expression):\n",
    "    answer = 0\n",
    "    number_list, operator_list = convert_to_list(expression)\n",
    "    priority_list = make_priority_list(operator_list)\n",
    "    operator_permutations = make_permutations(priority_list, len(priority_list))\n",
    "    for operator_set in operator_permutations:\n",
    "        result = abs(calc_expression(number_list, operator_list, operator_set))\n",
    "        answer = result if result > answer else answer\n",
    "    return answer\n",
    "\n",
    "# 공부할 것\n",
    "# (1) 정규표현식\n",
    "# (2) stack 자료구조 만들기\n",
    "# (3) 순열 만들기\n",
    "# (4) 순열과 조합의 차이점\n",
    "# (5) eval 함수\n",
    "# 재귀함수에서는 return 자신함수() 이렇게 해야 (혹은 내부에 재귀) 반환된다고 함 아니면 반환값이 없음\n",
    "\n",
    "# 주의할 것\n",
    "# 문제 잘 읽기 절대값인지\n",
    "# 리스트 초기화 temp_list = [] 꼭\n",
    "# 잘 실수하는 부분 : number_list = temp_number_list.extend(number_list[i+2]) 이러면 Nonetype 이다.\n",
    "# 순열이고 뭐고 내가 접근하는 방식이 효율적이고 좋은것인지 검토 필요\n"
   ]
  },
  {
   "cell_type": "code",
   "execution_count": 32,
   "metadata": {},
   "outputs": [
    {
     "data": {
      "text/plain": [
       "60420"
      ]
     },
     "execution_count": 32,
     "metadata": {},
     "output_type": "execute_result"
    }
   ],
   "source": [
    "expression = exp1\n",
    "result = solution(expression)\n",
    "result"
   ]
  },
  {
   "cell_type": "code",
   "execution_count": 40,
   "metadata": {},
   "outputs": [],
   "source": [
    "# 다른사람 풀이\n",
    "# 이걸 보고, 기본에 충실한 걸 보여주는 것보다 눈에 띄게 잘하고, 어떻게든 풀어내는 게 중요하다는 걸 깨달음\n",
    "# 순열이고 뭐고 내가 접근하는 방식이 효율적이고 좋은것인지 검토 필요\n",
    "def solution(expression):\n",
    "    operations = [('+', '-', '*'),('+', '*', '-'),('-', '+', '*'),('-', '*', '+'),('*', '+', '-'),('*', '-', '+')]\n",
    "    answer = []\n",
    "    for op in operations:\n",
    "        a = op[0]\n",
    "        b = op[1]\n",
    "        temp_list = []\n",
    "        for e in expression.split(a):\n",
    "            temp = [f\"({i})\" for i in e.split(b)]\n",
    "            temp_list.append(f'({b.join(temp)})')\n",
    "            print(temp_list)\n",
    "        answer.append(abs(eval(a.join(temp_list)))) # eval\n",
    "    return max(answer)"
   ]
  },
  {
   "cell_type": "code",
   "execution_count": 41,
   "metadata": {},
   "outputs": [
    {
     "name": "stdout",
     "output_type": "stream",
     "text": [
      "['((100)-(200*300)-(500))']\n",
      "['((100)-(200*300)-(500))', '((20))']\n",
      "['((100-200)*(300-500))']\n",
      "['((100-200)*(300-500))', '((20))']\n",
      "['((100))']\n",
      "['((100))', '((200*300))']\n",
      "['((100))', '((200*300))', '((500)+(20))']\n",
      "['((100))']\n",
      "['((100))', '((200)*(300))']\n",
      "['((100))', '((200)*(300))', '((500+20))']\n",
      "['((100-200))']\n",
      "['((100-200))', '((300-500)+(20))']\n",
      "['((100)-(200))']\n",
      "['((100)-(200))', '((300)-(500+20))']\n"
     ]
    },
    {
     "data": {
      "text/plain": [
       "60420"
      ]
     },
     "execution_count": 41,
     "metadata": {},
     "output_type": "execute_result"
    }
   ],
   "source": [
    "expression = exp1\n",
    "result = solution(expression)\n",
    "result"
   ]
  },
  {
   "cell_type": "code",
   "execution_count": null,
   "metadata": {},
   "outputs": [
    {
     "data": {
      "text/plain": [
       "2"
      ]
     },
     "execution_count": 37,
     "metadata": {},
     "output_type": "execute_result"
    }
   ],
   "source": []
  },
  {
   "cell_type": "code",
   "execution_count": null,
   "metadata": {},
   "outputs": [],
   "source": []
  }
 ],
 "metadata": {
  "kernelspec": {
   "display_name": "base",
   "language": "python",
   "name": "python3"
  },
  "language_info": {
   "codemirror_mode": {
    "name": "ipython",
    "version": 3
   },
   "file_extension": ".py",
   "mimetype": "text/x-python",
   "name": "python",
   "nbconvert_exporter": "python",
   "pygments_lexer": "ipython3",
   "version": "3.10.10"
  }
 },
 "nbformat": 4,
 "nbformat_minor": 2
}
