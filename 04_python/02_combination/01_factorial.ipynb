{
 "cells": [
  {
   "cell_type": "markdown",
   "metadata": {},
   "source": [
    "팩토리얼 (Factorial)   \n",
    "개념 : 자연수 1 ~ n 까지의 모든 정수 곱  \n",
    "표기법 : n!  \n",
    "참고 : 순열과 조합 등 대부분의 계산의 기초.   \n",
    "사용처 : 숫자의 곱셈 계산, 경우의 수 계산  "
   ]
  },
  {
   "cell_type": "markdown",
   "metadata": {},
   "source": [
    "## Reference  \n"
   ]
  },
  {
   "cell_type": "code",
   "execution_count": null,
   "metadata": {
    "vscode": {
     "languageId": "plaintext"
    }
   },
   "outputs": [],
   "source": []
  }
 ],
 "metadata": {
  "language_info": {
   "name": "python"
  }
 },
 "nbformat": 4,
 "nbformat_minor": 2
}
