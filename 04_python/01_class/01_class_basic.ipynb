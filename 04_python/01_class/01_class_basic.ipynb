{
 "cells": [
  {
   "cell_type": "markdown",
   "metadata": {},
   "source": [
    "# 파이썬 클래스  \n",
    "\n",
    "## 클래스 규칙  \n",
    "\n",
    "(1) 클래스 선언은 `class 클래스이름:` 와 같이 수행한다.  \n",
    "(2) 클래스의 이름은 카멜 케이스로 명명한다.  \n",
    "\n",
    "## 클래스의 필드와 메서드  \n",
    "\n",
    "필드 : 클래스가 가진 변수들로, 클래스의 속성을 정의한다.  \n",
    "메서드 : 클래스가 가진 함수들로, 클래스나 인스턴스의 동작을 정의한다.  \n",
    "\n",
    "## 클래스와 인스턴스  \n",
    "\n",
    "클래스 : 자신만의 필드와 메서드를 가지는 자료형. 객체가 아닌 자료형이다.  \n",
    "인스턴스 : 클래스를 자료형으로 하는 객체. 일시적이기 때문에 인스턴스라고 한다.  \n",
    "\n",
    "## 클래스 필드, 클래스 메서드와 인스턴스 필드, 인스턴스 메서드  \n",
    "\n",
    "클래스 필드 : 클래스 전체에 공유되는 변수. `클래스이름.변수이름` 과 같이 호출할 수 있다. 해당 클래스를 자료형으로 하는 인스턴스는 모두 동일한 값을 가지며, 인스턴스 상에서 값을 수정하면, 인스턴스 간에 값이 달라질 수 있다.  \n",
    "인스턴스 변수 : 각 인스턴스마다 독립적으로 존재하는 변수. `self.변수이름` 과 같이 사용된다.  \n",
    "\n",
    "클래스 메서드 : `@classmethod` 데코레이터를 사용하며, `cls` 를 첫 번째 매개변수로 받는다.  \n",
    "인스턴스 메서드 : `self`를 첫 번째 매개변수로 받으며, 인스턴스 속성에 접근할 수 있다.  \n",
    "\n",
    "## 클래스의 생성자와 소멸자  \n",
    "\n",
    "생성자 : 인스턴스를 생성할 때 호출되는 클래스의 특별한 메서드. 파이썬에서는 `def __init__():` 이라는 메서드로 정의한다.   \n",
    "소멸자 : 인스턴스를 소멸시킬 때 호출되는 클래스의 특별한 메서드. 자원을 해제하거나 정리하는 작업을 수행하며, 파이썬에서는 `def __del__(self):` 이라는 메서드로 정의한다.  \n",
    "\n",
    "\n"
   ]
  },
  {
   "cell_type": "code",
   "execution_count": 1,
   "metadata": {},
   "outputs": [],
   "source": [
    "# 클래스 규칙\n",
    "\n",
    "class OrderMenu:\n",
    "    order_count = 0 # 클래스 필드\n",
    "    current_customer = 0\n",
    "    \n",
    "    class MenuCost:\n",
    "        pasta = 10000\n",
    "        risotto = 11000\n",
    "        pizza = 15000\n",
    "        coke = 3000\n",
    "        beer = 6000\n",
    "    \n",
    "    def __init__(self):\n",
    "        # 생성자 함수\n",
    "        OrderMenu.__increment_order_count__()\n",
    "        self.order_number = OrderMenu.order_count\n",
    "        self.menu_list = list()\n",
    "        self.bill = 0\n",
    "    \n",
    "    @classmethod\n",
    "    def __increment_order_count__(cls):\n",
    "        # 오더가 추가될 때, 전체 order_count 를 증가시키는 함수\n",
    "        # 내장으로 처리할 함수로, 외부에 노출될 경우 오용될 수 있으므로 숨기기\n",
    "        cls.order_count += 1\n",
    "        cls.current_customer += 1\n",
    "        \n",
    "    @classmethod\n",
    "    def __decrement_order_count__(cls):\n",
    "        cls.current_customer -= 1\n",
    "        \n",
    "    def take_order(self, *args):\n",
    "        # 주문 받기 메서드\n",
    "        for menu in args:\n",
    "            self.menu_list.append(menu)\n",
    "            self.bill += OrderMenu.MenuCost.__dict__[menu]\n",
    "    \n",
    "    def print_order(self):\n",
    "        print(f'order_number : {self.order_number}')\n",
    "        print(f'ordered menu : {self.menu_list}')\n",
    "        print(f'total cost : {self.bill}')\n",
    "    \n",
    "    @classmethod\n",
    "    def print_current_customer(cls):\n",
    "        print(f'current customer count : {cls.current_customer}')\n",
    "    \n",
    "    def __del__(self):\n",
    "        OrderMenu.__decrement_order_count__()"
   ]
  },
  {
   "cell_type": "code",
   "execution_count": 2,
   "metadata": {},
   "outputs": [
    {
     "name": "stdout",
     "output_type": "stream",
     "text": [
      "order_number : 1\n",
      "ordered menu : ['pizza', 'pasta']\n",
      "total cost : 25000\n"
     ]
    }
   ],
   "source": [
    "# 주문 생성하기\n",
    "om1 = OrderMenu()\n",
    "om1.take_order('pizza', 'pasta')\n",
    "om1.print_order()"
   ]
  },
  {
   "cell_type": "code",
   "execution_count": 3,
   "metadata": {},
   "outputs": [
    {
     "name": "stdout",
     "output_type": "stream",
     "text": [
      "order_number : 2\n",
      "ordered menu : ['coke', 'beer']\n",
      "total cost : 9000\n"
     ]
    }
   ],
   "source": [
    "# 주문 생성하기 2\n",
    "om2 = OrderMenu()\n",
    "om2.take_order('coke', 'beer')\n",
    "om2.print_order()\n",
    "\n",
    "# order_number 가 increment 된 것을 볼 수 있다."
   ]
  },
  {
   "cell_type": "code",
   "execution_count": 4,
   "metadata": {},
   "outputs": [
    {
     "name": "stdout",
     "output_type": "stream",
     "text": [
      "order_number : 1\n",
      "ordered menu : ['pizza', 'pasta']\n",
      "total cost : 25000\n"
     ]
    }
   ],
   "source": [
    "om1.print_order() # 이미 생성된 인스턴스의 클래스 필드는 이후의 수정에 따른 영향을 받지 않음"
   ]
  },
  {
   "cell_type": "code",
   "execution_count": 6,
   "metadata": {},
   "outputs": [
    {
     "name": "stdout",
     "output_type": "stream",
     "text": [
      "current customer count : 2\n",
      "current customer count : 1\n"
     ]
    }
   ],
   "source": [
    "# 소멸자\n",
    "OrderMenu.print_current_customer() # 현재 고객 수\n",
    "del om1 # 고객 나감\n",
    "OrderMenu.print_current_customer() # 현재 고객 수"
   ]
  },
  {
   "cell_type": "markdown",
   "metadata": {},
   "source": [
    "## Reference  \n",
    "\n",
    "[파이썬 클래스 인스턴스 삭제(소멸자)](https://blog.naver.com/youndok/222559671971)"
   ]
  },
  {
   "cell_type": "markdown",
   "metadata": {},
   "source": []
  }
 ],
 "metadata": {
  "kernelspec": {
   "display_name": "jh",
   "language": "python",
   "name": "python3"
  },
  "language_info": {
   "codemirror_mode": {
    "name": "ipython",
    "version": 3
   },
   "file_extension": ".py",
   "mimetype": "text/x-python",
   "name": "python",
   "nbconvert_exporter": "python",
   "pygments_lexer": "ipython3",
   "version": "3.10.15"
  }
 },
 "nbformat": 4,
 "nbformat_minor": 2
}
