{
 "cells": [
  {
   "cell_type": "markdown",
   "metadata": {},
   "source": [
    "## 팩토리 패턴  \n",
    "\n",
    "### 팩토리  \n",
    "\n",
    "팩토리는 객체 지향 프로그래밍에서 `다른 객체를 생성하기 위한 객체` 를 뜻한다. 이러한 팩토리 패턴은 형식적으로는 메서드 혹은 클래스의 형식을 빌려 표현된다.  \n",
    "\n",
    "### 팩토리 패턴  \n",
    "\n",
    "팩토리 패턴은 객체 생성의 로직을 캡슐화하여, 객체를 생성하는 코드를 중앙에서 관리할 수 있도록 설계하는 생성 패턴이다. 사용자는 객체 생성 과정을 알 필요 없어 객체 생성의 복잡성을 숨기는 데 도움이 되며, 중앙에서 코드를 관리할 수 있으므로 코드의 유지보수성을 높이는 데 도움을 준다.  \n",
    "\n",
    "**캡슐화** : 객체의 데이터를 외부로부터 숨기고, 해당 데이터에 접근하거나 수정하는 방법을 제한하는 것.  \n",
    "\n",
    "### 팩토리 패턴의 필요성  \n",
    "\n",
    "(1) 객체 생성 로직의 캡슐화 : 객체 생성 로직의 복잡성을 감추고, 단순화된 인터페이스를 제공  \n",
    "(2) 유지보수성 향상 : 객체 생성 로직을 하나의 위치에서 관리하므로, 새로운 객체 추가나 기존 객체 수정시 코드의 변경 범위를 최소화할 수 있음  \n",
    "(3) 확장성 : 새로운 유형의 객체가 추가되어야 할 때 팩토리 메서드에 추가함으로써 표현 가능. 기존 코드는 변경하지 않으므로 Open-Closed Principle 을 충족한다.  \n",
    "\n",
    "### 팩토리 패턴의 종류  \n",
    "\n",
    "|종류|영문|설명|\n",
    "|---|---|---|\n",
    "|단순 팩토리|Simple Factory|클라이언트에서 요청한 유형에 따라 적절한 객체를 생성해 반환한다.<br>엄격하게 말해 디자인 패턴으로 간주되지는 않으나, 많이 사용된다.|\n",
    "|팩토리 메서드|Factory Method|상위 클래스에서 객체 생성 인터페이스를 정의, 하위 클레스에서 구체적인 객체 생성 방식을 구현한다.|\n",
    "|추상 팩토리|Abstract Factory|관견 객체의 패밀리를 생성하는 인터페이스를 제공한다.<br>서로 관련있는 객체들을 생성할 때 유용하다.|"
   ]
  },
  {
   "cell_type": "code",
   "execution_count": 1,
   "metadata": {},
   "outputs": [],
   "source": [
    "# (1) 단순 팩토리  \n",
    "\n",
    "class FoodOrderFactory:\n",
    "    @staticmethod\n",
    "    def order_menu(food_type):\n",
    "        if food_type == 'pasta':\n",
    "            return Pasta()\n",
    "        elif food_type == 'risotto':\n",
    "            return Risotto()\n",
    "        elif food_type == 'pizza':\n",
    "            return Pizza()\n",
    "        else:\n",
    "            print('ordering wrong menu')\n",
    "\n",
    "\n",
    "class Menu:\n",
    "    order_quantity = 0\n",
    "    served_quantity = 0\n",
    "    def __init__(self):\n",
    "        self.menu_name = ''\n",
    "        self.ingredients = list()\n",
    "        self.cooking_time = ''\n",
    "        self.is_prepared = False\n",
    "        self.is_cooked = False\n",
    "        self.is_served = False\n",
    "\n",
    "    @classmethod\n",
    "    def ordered(cls):\n",
    "        cls.order_quantity += 1\n",
    "    \n",
    "    def prepare(self):\n",
    "        self.is_prepared = True\n",
    "    \n",
    "    def cooking(self):\n",
    "        self.is_cooked = True\n",
    "    \n",
    "    def serve(self):\n",
    "        if self.is_prepared & self.is_cooked & (~self.is_served):\n",
    "            self.is_served = True\n",
    "            Pasta.order_quantity -= 1\n",
    "            Pasta.served_quantity += 1\n",
    "        elif ~self.is_prepared:\n",
    "            print('this menu is not prepared\\n=========================')\n",
    "        elif ~self.is_cooked:\n",
    "            print('this menu is not cooked\\n=========================')\n",
    "        elif self.served:\n",
    "            print('this menu is already served\\n=========================')\n",
    "    \n",
    "    def menu_description(self):\n",
    "        print(f\"Description of {self.menu_name}.\")\n",
    "        print(f\"This menu using {self.ingredients}.\")\n",
    "        print(f\"And requires {self.cooking_time} to cook\\n=========================\")\n",
    "    \n",
    "    def show_status(self):\n",
    "        print(f\"prepared : {self.is_prepared}\\ncooked : {self.is_cooked}\\nserved : {self.is_served}\\n=========================\")\n",
    "        \n",
    "    def show_menu_total_status(self):\n",
    "        print(f\"{self.menu_name} menu order_quantity : {self.order_quantity}\")\n",
    "        print(f\"{self.menu_name} menu served_quantity : {self.served_quantity}\\n=========================\")\n",
    "        \n",
    "\n",
    "class Pasta(Menu):\n",
    "    def __init__(self):\n",
    "        super().__init__()\n",
    "        self.menu_name = 'pasta'\n",
    "        self.ingredients = ['olive oil', 'noodles', 'garlic', 'salt', 'pepper']\n",
    "        self.cooking_time = '10m'\n",
    "\n",
    "\n",
    "class Risotto(Menu):\n",
    "    def __init__(self):\n",
    "        super().__init__()\n",
    "        self.menu_name = 'risotto'\n",
    "        self.ingredients = ['rice', 'olive oil', 'salt', 'peppr', 'cheese']\n",
    "        self.cooking_time = '15m'\n",
    "\n",
    "class Pizza(Menu):\n",
    "    def __init__(self):\n",
    "        super().__init__()\n",
    "        self.menu_name = 'pizza'\n",
    "        self.ingredients = ['pizza dough', 'cheeze', 'olive', 'tomato', 'ham']\n",
    "        self.cooking_time = '20m'"
   ]
  },
  {
   "cell_type": "code",
   "execution_count": 4,
   "metadata": {},
   "outputs": [
    {
     "name": "stdout",
     "output_type": "stream",
     "text": [
      "Description of pasta.\n",
      "This menu using ['olive oil', 'noodles', 'garlic', 'salt', 'pepper'].\n",
      "And requires 10m to cook\n",
      "=========================\n",
      "this menu is not prepared\n",
      "=========================\n",
      "prepared : True\n",
      "cooked : False\n",
      "served : False\n",
      "=========================\n",
      "pasta menu order_quantity : 3\n",
      "pasta menu served_quantity : 0\n",
      "=========================\n"
     ]
    }
   ],
   "source": [
    "om1 = FoodOrderFactory.order_menu('pasta')\n",
    "om1.ordered()\n",
    "om1.prepare()\n",
    "om1.menu_description()\n",
    "om1.serve()\n",
    "om1.show_status()\n",
    "Pasta.show_menu_total_status(om1)"
   ]
  },
  {
   "cell_type": "code",
   "execution_count": null,
   "metadata": {},
   "outputs": [],
   "source": []
  },
  {
   "cell_type": "code",
   "execution_count": null,
   "metadata": {},
   "outputs": [
    {
     "data": {
      "text/plain": [
       "1"
      ]
     },
     "execution_count": 4,
     "metadata": {},
     "output_type": "execute_result"
    }
   ],
   "source": []
  },
  {
   "cell_type": "code",
   "execution_count": null,
   "metadata": {},
   "outputs": [
    {
     "data": {
      "text/plain": [
       "0"
      ]
     },
     "execution_count": 5,
     "metadata": {},
     "output_type": "execute_result"
    }
   ],
   "source": []
  },
  {
   "cell_type": "code",
   "execution_count": null,
   "metadata": {},
   "outputs": [],
   "source": []
  },
  {
   "cell_type": "code",
   "execution_count": null,
   "metadata": {},
   "outputs": [
    {
     "name": "stdout",
     "output_type": "stream",
     "text": [
      "Description of pasta.\n",
      "This menu using ['olive oil', 'noodles', 'garlic', 'salt', 'pepper'].\n",
      "And requires 10m to cook\n"
     ]
    }
   ],
   "source": []
  },
  {
   "cell_type": "code",
   "execution_count": null,
   "metadata": {},
   "outputs": [
    {
     "name": "stdout",
     "output_type": "stream",
     "text": [
      "prepared : True\n",
      "cooked : False\n",
      "served : False\n"
     ]
    }
   ],
   "source": []
  },
  {
   "cell_type": "code",
   "execution_count": null,
   "metadata": {},
   "outputs": [],
   "source": []
  }
 ],
 "metadata": {
  "kernelspec": {
   "display_name": "jh",
   "language": "python",
   "name": "python3"
  },
  "language_info": {
   "codemirror_mode": {
    "name": "ipython",
    "version": 3
   },
   "file_extension": ".py",
   "mimetype": "text/x-python",
   "name": "python",
   "nbconvert_exporter": "python",
   "pygments_lexer": "ipython3",
   "version": "3.10.15"
  }
 },
 "nbformat": 4,
 "nbformat_minor": 2
}
