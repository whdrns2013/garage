{
 "cells": [
  {
   "cell_type": "code",
   "execution_count": null,
   "metadata": {},
   "outputs": [],
   "source": [
    "# 딕셔너리 정렬하기"
   ]
  },
  {
   "cell_type": "code",
   "execution_count": 3,
   "metadata": {},
   "outputs": [],
   "source": [
    "# lambda 함수의 기본 구조\n",
    "# lambda 매개변수(파라미터):반환값"
   ]
  },
  {
   "cell_type": "code",
   "execution_count": 4,
   "metadata": {},
   "outputs": [
    {
     "name": "stdout",
     "output_type": "stream",
     "text": [
      "3\n"
     ]
    }
   ],
   "source": [
    "# 사용 예시\n",
    "add = lambda x, y : x + y\n",
    "print(add(1, 2))"
   ]
  },
  {
   "cell_type": "code",
   "execution_count": 34,
   "metadata": {},
   "outputs": [],
   "source": [
    "# lambda 와 함수\n",
    "\n",
    "# 정규 함수 선언 사용시\n",
    "def add(a, b):\n",
    "    return a + b\n",
    "\n",
    "# 람다 함수 사용시\n",
    "add = lambda a, b : a + b"
   ]
  },
  {
   "cell_type": "code",
   "execution_count": 8,
   "metadata": {},
   "outputs": [
    {
     "data": {
      "text/plain": [
       "[('1', 'Apple'), ('3', 'Banana'), ('2', 'Cherry')]"
      ]
     },
     "execution_count": 8,
     "metadata": {},
     "output_type": "execute_result"
    }
   ],
   "source": [
    "# 자주 사용되는 예시\n",
    "data = {'1':'Apple', '2':'Cherry', '3':'Banana'}\n",
    "sorted_data = sorted(data.items(), key=lambda x:x[1])\n",
    "sorted_data"
   ]
  },
  {
   "cell_type": "code",
   "execution_count": 30,
   "metadata": {},
   "outputs": [
    {
     "name": "stdout",
     "output_type": "stream",
     "text": [
      "[1, 2, 3, 4, 5]\n",
      "[5, 4, 3, 2, 1]\n",
      "[1, 2, 3, 4, 5]\n",
      "[5, 4, 3, 2, 1]\n",
      "[' ', ' ', '너', '딕', '렬', '리', '셔', '썬', '이', '정', '파']\n",
      "['파', '정', '이', '썬', '셔', '리', '렬', '딕', '너', ' ', ' ']\n",
      "[1, 2, 3, 4, 5]\n",
      "[5, 4, 3, 2, 1]\n",
      "[1, 2, 3, 4, 5]\n",
      "[5, 4, 3, 2, 1]\n",
      "[(0, -2, 3), (1, 4, 6), (2, -1), (4, 3), (9, -1, 1, 1, 2, 5)]\n",
      "[(0, -2, 3), (2, -1), (9, -1, 1, 1, 2, 5), (4, 3), (1, 4, 6)]\n",
      "[1, 2, 4, 0, 9]\n",
      "[1, 2, 4, 0, 9]\n",
      "dict_items([('1', 'Apple'), ('2', 'Cherry'), ('3', 'Banana')])\n",
      "[('2', 'Cherry'), ('3', 'Banana'), ('1', 'Apple')]\n"
     ]
    }
   ],
   "source": [
    "# 예시 원리 살펴보기\n",
    "\n",
    "## (1) sorted 함수  \n",
    "## sorted 함수는 정렬을 하는 함수. 문자열, 튜플, 리스트, 사전과 같은 이터러블을 받아서 정렬된 리스트로 반환\n",
    "## 파라미터1 : key : 이터러블의 각 원소에서 정렬의 기준이 되는 값을 추출하는 함수를 지정. 기본 None.\n",
    "## 파라미터2 : reverse : 내림차순으로 정렬할지 여부를 결정한다. 기본값은 False.\n",
    "\n",
    "ex_list = [1, 3, 2, 5, 4]\n",
    "print(sorted(ex_list))\n",
    "print(sorted(ex_list, reverse=True))\n",
    "\n",
    "ex_set = {1, 3, 2, 5, 4}\n",
    "print(sorted(ex_set))\n",
    "print(sorted(ex_set, reverse=True))\n",
    "\n",
    "ex_txt = '파이썬 딕셔너리 정렬'\n",
    "print(sorted(ex_txt))\n",
    "print(sorted(ex_txt, reverse=True))\n",
    "\n",
    "ex_tuple = (1, 3, 2, 5, 4)\n",
    "print(sorted(ex_tuple))\n",
    "print(sorted(ex_tuple, reverse=True))\n",
    "\n",
    "ex_range = range(1, 6)\n",
    "print(sorted(ex_range))\n",
    "print(sorted(ex_range, reverse=True))\n",
    "\n",
    "\n",
    "## (2) sorted - key 파라미터\n",
    "## key 파라미터는 정렬의 기준이 되는 값을 함수로써 지정해주는 것\n",
    "## 예시로, 튜플의 두 번째 원소를 기준으로 정렬을 해보자.\n",
    "## 먼저 튜플의 두 번째 원소를 반환하는 함수가 정의되어 있어야 하고, 그 함수를 key 파라미터에 대한 값으로 주면 된다.\n",
    "ex_tuple_list = [(1, 4, 6), (2, -1), (4, 3), (0, -2, 3), (9, -1, 1, 1, 2, 5)]\n",
    "def get_first(tup):\n",
    "    return tup[0]\n",
    "def get_second(tup):\n",
    "    return tup[1]\n",
    "print(sorted(ex_tuple_list, key=get_first))\n",
    "print(sorted(ex_tuple_list, key=get_second))\n",
    "\n",
    "\n",
    "\n",
    "## (3) lambda\n",
    "## 위에서 정의한 함수를 lambda로 간단하게 구현할 수 있으며,\n",
    "## lambda의 경우 익명함수로 메모리에 올라가지 않으므로 한 번 사용하고 더 이상 쓰지 않는 점에서 적절하다.\n",
    "ex_tuple_list = [(1, 4, 6), (2, -1), (4, 3), (0, -2, 3), (9, -1, 1, 1, 2, 5)]\n",
    "def get_first(tup): return tup[0]\n",
    "normal_def_result = [get_first(x) for x in ex_tuple_list]\n",
    "lambda_def_result = [(lambda x: x[0])(t) for t in ex_tuple_list]\n",
    "print(normal_def_result)\n",
    "print(lambda_def_result)\n",
    "\n",
    "\n",
    "## (4) dict.items()\n",
    "## dict.items() 는 딕셔너리의 key - value 쌍들을 튜플 형태로 반환하는 이터러블 객체를 생성한다.\n",
    "## 즉, 쉽게 말해 모든 key - value 쌍 튜플을 리스트와 같은 순서가 있는 객체에 담아 반환하는 함수이다.\n",
    "data = {'1':'Apple', '2':'Cherry', '3':'Banana'}\n",
    "print(data.items())\n",
    "\n",
    "\n",
    "## 결론 : 위 4가지 특성을 조합하여 딕셔너리의 키값 혹은 value 를 통한 정렬이 가능하다.\n",
    "data = {'1':'Apple', '2':'Cherry', '3':'Banana'}\n",
    "data_sorted = sorted(data.items(), key=lambda x:x[1], reverse=True)\n",
    "print(data_sorted)"
   ]
  },
  {
   "cell_type": "code",
   "execution_count": 33,
   "metadata": {},
   "outputs": [
    {
     "name": "stdout",
     "output_type": "stream",
     "text": [
      "[(0, -2, 3), (1, 4, 6), (2, -1), (4, 3), (9, -1, 1, 1, 2, 5)]\n",
      "[(0, -2, 3), (2, -1), (9, -1, 1, 1, 2, 5), (4, 3), (1, 4, 6)]\n",
      "[(0, -2, 3), (1, 4, 6), (2, -1), (4, 3), (9, -1, 1, 1, 2, 5)]\n"
     ]
    }
   ],
   "source": [
    "# key 파라미터 사용\n",
    "ex_tuple_list = [(1, 4, 6), (2, -1), (4, 3), (0, -2, 3), (9, -1, 1, 1, 2, 5)]\n",
    "\n",
    "# 이터러블 내 개체의 첫 번째 원소 값을 뽑는 함수\n",
    "def get_first(itr):\n",
    "    return itr[0]\n",
    "\n",
    "# \" 두 번째 원소 값을 뽑는 함수\n",
    "def get_second(itr):\n",
    "    return itr[1]\n",
    "\n",
    "# key 파라미터를 사용한 정렬 (1) 첫 번째 원소 값 기준\n",
    "print(sorted(ex_tuple_list, key=get_first))\n",
    "\n",
    "# key 파라미터를 사용한 정렬 (2) 두 번째 원소 값 기준\n",
    "print(sorted(ex_tuple_list, key=get_second))\n",
    "\n",
    "print(sorted(ex_tuple_list))"
   ]
  },
  {
   "cell_type": "code",
   "execution_count": 35,
   "metadata": {},
   "outputs": [
    {
     "name": "stdout",
     "output_type": "stream",
     "text": [
      "('1', 'Apple')\n",
      "('2', 'Cherry')\n",
      "('3', 'Banana')\n"
     ]
    }
   ],
   "source": [
    "for item in data.items():\n",
    "    print(item)"
   ]
  },
  {
   "cell_type": "code",
   "execution_count": 37,
   "metadata": {},
   "outputs": [
    {
     "name": "stdout",
     "output_type": "stream",
     "text": [
      "[('1', 'Apple'), ('3', 'Banana'), ('2', 'Cherry')]\n"
     ]
    }
   ],
   "source": [
    "def get_second(itr):\n",
    "    return itr[1]\n",
    "\n",
    "print(sorted(data.items(), key=get_second))"
   ]
  },
  {
   "cell_type": "code",
   "execution_count": 38,
   "metadata": {},
   "outputs": [
    {
     "name": "stdout",
     "output_type": "stream",
     "text": [
      "[('1', 'Apple'), ('3', 'Banana'), ('2', 'Cherry')]\n"
     ]
    }
   ],
   "source": [
    "# lambda 함수 사용시\n",
    "## 정렬할 dict\n",
    "data = {'1':'Apple', '2':'Cherry', '3':'Banana'}\n",
    "\n",
    "## sorting\n",
    "print(sorted(data.items(), key=lambda x:x[1]))"
   ]
  },
  {
   "cell_type": "code",
   "execution_count": null,
   "metadata": {},
   "outputs": [],
   "source": []
  }
 ],
 "metadata": {
  "kernelspec": {
   "display_name": "inu_dropout",
   "language": "python",
   "name": "python3"
  },
  "language_info": {
   "codemirror_mode": {
    "name": "ipython",
    "version": 3
   },
   "file_extension": ".py",
   "mimetype": "text/x-python",
   "name": "python",
   "nbconvert_exporter": "python",
   "pygments_lexer": "ipython3",
   "version": "3.12.0"
  }
 },
 "nbformat": 4,
 "nbformat_minor": 2
}
